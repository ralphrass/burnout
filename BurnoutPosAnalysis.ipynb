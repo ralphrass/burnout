{
 "cells": [
  {
   "cell_type": "code",
   "execution_count": 1,
   "id": "sunrise-terminal",
   "metadata": {},
   "outputs": [],
   "source": [
    "import pandas as pd\n",
    "import numpy as np\n",
    "df = pd.read_csv('dataset_with_class.csv')"
   ]
  },
  {
   "cell_type": "code",
   "execution_count": 2,
   "id": "offshore-valuable",
   "metadata": {},
   "outputs": [],
   "source": [
    "# df.columns\n",
    "TARGET_CLASS = 'Burnout_E'"
   ]
  },
  {
   "cell_type": "markdown",
   "id": "heard-dollar",
   "metadata": {},
   "source": [
    "# Burnout por idade"
   ]
  },
  {
   "cell_type": "code",
   "execution_count": 3,
   "id": "cleared-presentation",
   "metadata": {},
   "outputs": [],
   "source": [
    "# Executar isso apenas uma vez:\n",
    "\n",
    "if 'IdadeCat' in df.columns: # and 'NrProfCat' in df_features_pre_processed.columns:\n",
    "    # df_features_pre_processed = df_features_pre_processed.drop(columns=['IdadeCat', 'NrProfCat'])\n",
    "    df = df.drop(columns=['IdadeCat'])\n",
    "else:\n",
    "    aaa = pd.cut(df.Idade, [0, 24, 34, 44, 54, 64, 100], labels=[\"até 24\", \"24 a 34\", \"34 a 44\", \"44 a 54\", \"54 a 64\", \"Mais que 64\"])\n",
    "    df.insert(len(df.columns), \"IdadeCat\", aaa)\n",
    "    # bbb = pd.cut(df_features_pre_processed.Numero_professores, [0, 36, 72, 108, 144, 200], labels=[\"até 36\", \"36 a 72\", \"72 a 108\", \"108 a 144\", \"Mais que 144\"])\n",
    "    # df_features_pre_processed.insert(len(df_features_pre_processed.columns), \"NrProfCat\", bbb)\n",
    "    dfg = df[df[TARGET_CLASS]==1][[\"IdadeCat\", TARGET_CLASS]].groupby(by=[\"IdadeCat\"]).count()\n",
    "    dfg2 = df[df[TARGET_CLASS]==0][[\"IdadeCat\", TARGET_CLASS]].groupby(by=[\"IdadeCat\"]).count()\n",
    "    \n",
    "# plt.figure(figsize=(12,7))"
   ]
  },
  {
   "cell_type": "code",
   "execution_count": 4,
   "id": "external-toyota",
   "metadata": {},
   "outputs": [
    {
     "data": {
      "image/png": "[encoded data removed]",
      "text/plain": [
       "<Figure size 662.4x360 with 1 Axes>"
      ]
     },
     "metadata": {
      "needs_background": "light"
     },
     "output_type": "display_data"
    }
   ],
   "source": [
    "import numpy as np\n",
    "import matplotlib.pyplot as plt\n",
    "\n",
    "def calc_cats(x, dfg, dfg2):\n",
    "        \n",
    "    return [dfg.values[x][0] / (dfg.values[x][0] + dfg2.values[x][0]) * 100, dfg2.values[x][0] / (dfg.values[x][0] + dfg2.values[x][0]) * 100]\n",
    "\n",
    "category_names = ['Burnout', 'Standard']\n",
    "results = {\n",
    "    'Até 24': calc_cats(0, dfg, dfg2),\n",
    "    'Entre 24 e 34': calc_cats(1, dfg, dfg2),\n",
    "    'Entre 34 e 44': calc_cats(2, dfg, dfg2),\n",
    "    'Entre 44 e 54': calc_cats(3, dfg, dfg2),\n",
    "    'Entre 54 e 64': calc_cats(4, dfg, dfg2),\n",
    "    'Mais que 64': calc_cats(5, dfg, dfg2)\n",
    "}\n",
    "\n",
    "\n",
    "def survey(results, category_names):\n",
    "\n",
    "    labels = list(results.keys())\n",
    "    data = np.array(list(results.values()))\n",
    "    data_cum = data.cumsum(axis=1)\n",
    "    category_colors = plt.get_cmap('RdYlGn')(\n",
    "        np.linspace(0.15, 0.85, data.shape[1]))\n",
    "\n",
    "    fig, ax = plt.subplots(figsize=(9.2, 5))\n",
    "    ax.invert_yaxis()\n",
    "    ax.xaxis.set_visible(False)\n",
    "    ax.set_xlim(0, np.sum(data, axis=1).max())\n",
    "\n",
    "    for i, (colname, color) in enumerate(zip(category_names, category_colors)):\n",
    "        widths = data[:, i]\n",
    "        starts = data_cum[:, i] - widths\n",
    "        ax.barh(labels, widths, left=starts, height=0.5,\n",
    "                label=colname, color=color)\n",
    "        xcenters = starts + widths / 2\n",
    "\n",
    "        r, g, b, _ = color\n",
    "        text_color = 'white' if r * g * b < 0.5 else 'darkgrey'\n",
    "        for y, (x, c) in enumerate(zip(xcenters, widths)):\n",
    "            ax.text(x, y, str(int(c)), ha='center', va='center',\n",
    "                    color=text_color)\n",
    "    # ax.legend(ncol=len(category_names), bbox_to_anchor=(0, 1),\n",
    "    #           loc='lower left', fontsize='small')\n",
    "\n",
    "    return fig, ax\n",
    "\n",
    "\n",
    "survey(results, category_names)\n",
    "# plt.title('Proporção de pessoas Com Burnout e Sem Burnout por idade', pad=40)\n",
    "# plt.savefig('fig10_burnout_health.tiff', dpi=300)\n",
    "plt.show()"
   ]
  },
  {
   "cell_type": "code",
   "execution_count": 5,
   "id": "employed-chancellor",
   "metadata": {},
   "outputs": [],
   "source": [
    "# survey(results, category_names)\n",
    "# plt.title('Proporção de pessoas Com Burnout e Sem Burnout por idade', pad=40)"
   ]
  },
  {
   "cell_type": "markdown",
   "id": "agricultural-quest",
   "metadata": {},
   "source": [
    "# Burnout por Saude"
   ]
  },
  {
   "cell_type": "code",
   "execution_count": 6,
   "id": "grand-stations",
   "metadata": {},
   "outputs": [],
   "source": [
    "# df['TAMesc'].plot.box()\n",
    "# df[df['TAMesc'] < 20]['TAMesc'].describe()\n",
    "# dfg2\n",
    "# [0, 1.79, 2.73, 3.91, 5, 9.38]\n"
   ]
  },
  {
   "cell_type": "code",
   "execution_count": 7,
   "id": "focused-handbook",
   "metadata": {},
   "outputs": [
    {
     "data": {
      "text/plain": [
       "{'0.5': [72.0, 28.000000000000004],\n",
       " '1.0': [71.05263157894737, 28.947368421052634],\n",
       " '1.5': [65.21739130434783, 34.78260869565217],\n",
       " '2.0': [65.80882352941177, 34.19117647058824],\n",
       " '2.5': [54.01574803149606, 45.98425196850393],\n",
       " '3.0': [45.27131782945737, 54.72868217054263],\n",
       " '3.5': [31.244635193133046, 68.75536480686695],\n",
       " '4.0': [29.550321199143468, 70.44967880085653]}"
      ]
     },
     "execution_count": 7,
     "metadata": {},
     "output_type": "execute_result"
    }
   ],
   "source": [
    "COLUMN = 'SaudeCat'\n",
    "\n",
    "# print(df.Saude.describe())\n",
    "\n",
    "# labels = [a for a in [0.5, 3, 3.75, 4, 4.5, 5]]\n",
    "labels = [a for a in np.arange(0.5, 5, 0.5)]\n",
    "\n",
    "if COLUMN in df.columns: # and 'NrProfCat' in df_features_pre_processed.columns:\n",
    "    # df_features_pre_processed = df_features_pre_processed.drop(columns=['IdadeCat', 'NrProfCat'])\n",
    "    df = df.drop(columns=[COLUMN])\n",
    "\n",
    "aaa = pd.cut(df.Saude, labels) #,  labels=[\"Very Large\", \"Large\", \"Small\", \"Very Small\"])\n",
    "df.insert(len(df.columns), COLUMN, aaa)\n",
    "\n",
    "dfg = df[df[TARGET_CLASS]==1][[COLUMN, TARGET_CLASS]].groupby(by=[COLUMN]).count()\n",
    "dfg2 = df[df[TARGET_CLASS]==0][[COLUMN, TARGET_CLASS]].groupby(by=[COLUMN]).count()\n",
    "\n",
    "results = dict()\n",
    "\n",
    "for idx in range(len(labels)-1):\n",
    "    results[str(labels[idx])] = calc_cats(idx, dfg, dfg2)\n",
    "    \n",
    "results"
   ]
  },
  {
   "cell_type": "code",
   "execution_count": 8,
   "id": "personalized-insertion",
   "metadata": {},
   "outputs": [
    {
     "data": {
      "image/png": "[encoded data removed]",
      "text/plain": [
       "<Figure size 662.4x360 with 1 Axes>"
      ]
     },
     "metadata": {
      "needs_background": "light"
     },
     "output_type": "display_data"
    }
   ],
   "source": [
    "# plt.figure(figsize=(12,7))\n",
    "\n",
    "survey(results, category_names)\n",
    "# plt.title('Burnout by Health', pad=20)\n",
    "# plt.ylabel('asd')\n",
    "plt.savefig('fig9_burnout_health.tiff', dpi=300, format=\"tiff\", pil_kwargs={\"compression\": \"tiff_lzw\"})\n",
    "plt.show()"
   ]
  },
  {
   "cell_type": "markdown",
   "id": "relevant-mount",
   "metadata": {},
   "source": [
    "# Burnout por SCV"
   ]
  },
  {
   "cell_type": "code",
   "execution_count": 9,
   "id": "upset-italic",
   "metadata": {},
   "outputs": [
    {
     "name": "stdout",
     "output_type": "stream",
     "text": [
      "count    3970.000000\n",
      "mean        5.242363\n",
      "std         1.224491\n",
      "min         0.000000\n",
      "25%         4.600000\n",
      "50%         5.400000\n",
      "75%         6.000000\n",
      "max        20.000000\n",
      "Name: SCV, dtype: float64\n",
      "[1.1, 1.6, 2.1, 2.6, 3.1, 3.6, 4.1, 4.6, 5.1, 5.6, 6.1, 6.6, 7.1]\n"
     ]
    },
    {
     "data": {
      "text/plain": [
       "{'1.1': [95.0, 5.0],\n",
       " '1.6': [67.74193548387096, 32.25806451612903],\n",
       " '2.1': [58.9041095890411, 41.0958904109589],\n",
       " '2.6': [62.96296296296296, 37.03703703703704],\n",
       " '3.1': [59.5, 40.5],\n",
       " '3.6': [60.38647342995169, 39.61352657004831],\n",
       " '4.1': [52.25225225225225, 47.74774774774775],\n",
       " '4.6': [45.766590389016024, 54.23340961098398],\n",
       " '5.1': [39.72431077694235, 60.27568922305765],\n",
       " '5.6': [31.10831234256927, 68.89168765743074],\n",
       " '6.1': [25.08833922261484, 74.91166077738515],\n",
       " '6.6': [13.261648745519713, 86.73835125448028]}"
      ]
     },
     "execution_count": 9,
     "metadata": {},
     "output_type": "execute_result"
    }
   ],
   "source": [
    "COLUMN = 'SCVCat'\n",
    "\n",
    "print(df.SCV.describe())\n",
    "\n",
    "# labels = [a for a in [0.5, 3, 3.75, 4, 4.5, 5]]\n",
    "labels = [a for a in np.arange(1.1, 7.2, 0.5)]\n",
    "\n",
    "print(labels)\n",
    "\n",
    "if COLUMN in df.columns: # and 'NrProfCat' in df_features_pre_processed.columns:\n",
    "    # df_features_pre_processed = df_features_pre_processed.drop(columns=['IdadeCat', 'NrProfCat'])\n",
    "    df = df.drop(columns=[COLUMN])\n",
    "\n",
    "aaa = pd.cut(df.SCV, labels) #,  labels=[\"Very Large\", \"Large\", \"Small\", \"Very Small\"])\n",
    "df.insert(len(df.columns), COLUMN, aaa)\n",
    "\n",
    "dfg = df[df[TARGET_CLASS]==1][[COLUMN, TARGET_CLASS]].groupby(by=[COLUMN]).count()\n",
    "dfg2 = df[df[TARGET_CLASS]==0][[COLUMN, TARGET_CLASS]].groupby(by=[COLUMN]).count()\n",
    "\n",
    "results = dict()\n",
    "\n",
    "for idx in range(len(labels)-1):\n",
    "    # results[str(idx)] = calc_cats(idx, dfg, dfg2)\n",
    "    results[str(labels[idx])] = calc_cats(idx, dfg, dfg2)\n",
    "results"
   ]
  },
  {
   "cell_type": "code",
   "execution_count": 10,
   "id": "considerable-error",
   "metadata": {},
   "outputs": [
    {
     "data": {
      "image/png": "[encoded data removed]",
      "text/plain": [
       "<Figure size 662.4x360 with 1 Axes>"
      ]
     },
     "metadata": {
      "needs_background": "light"
     },
     "output_type": "display_data"
    }
   ],
   "source": [
    "survey(results, category_names)\n",
    "# plt.title('Burnout by SCV', pad=20)\n",
    "# plt.gcf().subplots_adjust(top=0.35)\n",
    "plt.savefig('fig11_burnout_scv.tiff', dpi=300, format=\"tiff\", pil_kwargs={\"compression\": \"tiff_lzw\"})\n",
    "plt.show()"
   ]
  },
  {
   "cell_type": "markdown",
   "id": "confirmed-beads",
   "metadata": {},
   "source": [
    "# Burnout por Tempo Profissão"
   ]
  },
  {
   "cell_type": "code",
   "execution_count": 11,
   "id": "answering-limitation",
   "metadata": {},
   "outputs": [],
   "source": [
    "labels = [\"< 7\", \"7 to 14\", \"14 to 21\", \"21 to 28\", \"28 to 35\", \"> 35\", \"> 42\"]\n",
    "\n",
    "if 'TempoProfCat' in df.columns: # and 'NrProfCat' in df_features_pre_processed.columns:\n",
    "    # df_features_pre_processed = df_features_pre_processed.drop(columns=['IdadeCat', 'NrProfCat'])\n",
    "    df = df.drop(columns=['TempoProfCat'])\n",
    "\n",
    "aaa = pd.cut(df['Tempo_profissão'], list(range(0, 55, 7)), labels=labels)\n",
    "df.insert(len(df.columns), \"TempoProfCat\", aaa)\n",
    "\n",
    "dfg = df[df[TARGET_CLASS]==1][[\"TempoProfCat\", TARGET_CLASS]].groupby(by=[\"TempoProfCat\"]).count()\n",
    "dfg2 = df[df[TARGET_CLASS]==0][[\"TempoProfCat\", TARGET_CLASS]].groupby(by=[\"TempoProfCat\"]).count()\n",
    "\n",
    "results = dict()\n",
    "\n",
    "for idx in range(len(labels)-1):\n",
    "    results[labels[idx]] = calc_cats(idx, dfg, dfg2)"
   ]
  },
  {
   "cell_type": "code",
   "execution_count": 12,
   "id": "aboriginal-display",
   "metadata": {},
   "outputs": [
    {
     "data": {
      "text/plain": [
       "{'< 7': [40.421052631578945, 59.578947368421055],\n",
       " '7 to 14': [39.92740471869328, 60.07259528130672],\n",
       " '14 to 21': [42.94736842105264, 57.05263157894736],\n",
       " '21 to 28': [40.33898305084746, 59.66101694915255],\n",
       " '28 to 35': [29.260450160771708, 70.7395498392283],\n",
       " '> 35': [28.30188679245283, 71.69811320754717]}"
      ]
     },
     "execution_count": 12,
     "metadata": {},
     "output_type": "execute_result"
    }
   ],
   "source": [
    "results"
   ]
  },
  {
   "cell_type": "code",
   "execution_count": 13,
   "id": "strategic-blame",
   "metadata": {},
   "outputs": [
    {
     "data": {
      "image/png": "[encoded data removed]",
      "text/plain": [
       "<Figure size 662.4x360 with 1 Axes>"
      ]
     },
     "metadata": {
      "needs_background": "light"
     },
     "output_type": "display_data"
    }
   ],
   "source": [
    "# df['Tempo_profissão'].describe()\n",
    "# dfg2\n",
    "survey(results, category_names)\n",
    "# plt.title('Proportion of people with and without Burnout (standard), discretized by the time in the profession (years) ', pad=30)\n",
    "plt.savefig('fig12_burnout_profession.tiff', dpi=300, format=\"tiff\", pil_kwargs={\"compression\": \"tiff_lzw\"})\n",
    "plt.show()"
   ]
  },
  {
   "cell_type": "markdown",
   "id": "exotic-wells",
   "metadata": {},
   "source": [
    "# Qual o perfil de risco do profissional com Burnout?"
   ]
  },
  {
   "cell_type": "code",
   "execution_count": 14,
   "id": "automotive-tension",
   "metadata": {},
   "outputs": [
    {
     "data": {
      "text/plain": [
       "Index(['Idade', 'Formação', 'Tempo_Escola', 'Tempo_profissão', 'Hrs_semanais',\n",
       "       'Supervisiona', 'Licença_2semanas', 'Licença_ano', 'MPS', 'IPPS',\n",
       "       'IOPS', 'ISP', 'CAFC', 'VSP', 'ARE', 'DED', 'ARS', 'AED', 'Engagement',\n",
       "       'Exaustao', 'Cinismo', 'SCV', 'Saude', 'TAMesc', 'Burnout_E',\n",
       "       'IdadeCat', 'SaudeCat', 'SCVCat', 'TempoProfCat'],\n",
       "      dtype='object')"
      ]
     },
     "execution_count": 14,
     "metadata": {},
     "output_type": "execute_result"
    }
   ],
   "source": [
    "\"\"\"\n",
    "df = pd.DataFrame({\n",
    "'group': ['A','B','C','D'],\n",
    "'var1': [38, 1.5, 30, 4],\n",
    "'var2': [29, 10, 9, 34],\n",
    "'var3': [8, 39, 23, 24],\n",
    "'var4': [7, 31, 33, 14],\n",
    "'var5': [28, 15, 32, 14]\n",
    "})\n",
    "\n",
    "# number of variable\n",
    "categories=list(df)[1:]\n",
    "N = len(categories)\n",
    "print(categories, N)\n",
    "\n",
    "values=df.loc[0].drop('group').values.flatten().tolist()\n",
    "print(values)\n",
    "values += values[:1]\n",
    "print(values)\n",
    "\"\"\"\n",
    "df.columns"
   ]
  },
  {
   "cell_type": "code",
   "execution_count": 15,
   "id": "pretty-wrong",
   "metadata": {},
   "outputs": [
    {
     "data": {
      "text/html": [
       "<div>\n",
       "<style scoped>\n",
       "    .dataframe tbody tr th:only-of-type {\n",
       "        vertical-align: middle;\n",
       "    }\n",
       "\n",
       "    .dataframe tbody tr th {\n",
       "        vertical-align: top;\n",
       "    }\n",
       "\n",
       "    .dataframe thead th {\n",
       "        text-align: right;\n",
       "    }\n",
       "</style>\n",
       "<table border=\"1\" class=\"dataframe\">\n",
       "  <thead>\n",
       "    <tr style=\"text-align: right;\">\n",
       "      <th></th>\n",
       "      <th>SCV</th>\n",
       "      <th>Saude</th>\n",
       "      <th>Tempo_Escola</th>\n",
       "      <th>Tempo_profissão</th>\n",
       "      <th>TAMesc</th>\n",
       "    </tr>\n",
       "  </thead>\n",
       "  <tbody>\n",
       "    <tr>\n",
       "      <th>0</th>\n",
       "      <td>5.498758</td>\n",
       "      <td>3.860935</td>\n",
       "      <td>7.316985</td>\n",
       "      <td>15.297265</td>\n",
       "      <td>3.135353</td>\n",
       "    </tr>\n",
       "    <tr>\n",
       "      <th>1</th>\n",
       "      <td>4.854525</td>\n",
       "      <td>3.324927</td>\n",
       "      <td>7.424119</td>\n",
       "      <td>14.676519</td>\n",
       "      <td>3.254272</td>\n",
       "    </tr>\n",
       "  </tbody>\n",
       "</table>\n",
       "</div>"
      ],
      "text/plain": [
       "        SCV     Saude  Tempo_Escola  Tempo_profissão    TAMesc\n",
       "0  5.498758  3.860935      7.316985        15.297265  3.135353\n",
       "1  4.854525  3.324927      7.424119        14.676519  3.254272"
      ]
     },
     "execution_count": 15,
     "metadata": {},
     "output_type": "execute_result"
    }
   ],
   "source": [
    "df\n",
    "\n",
    "# use_cols = ['Idade', 'SCV', 'Cinismo', 'Saude', 'TAMesc', 'Exaustao']\n",
    "use_cols = ['SCV', 'Saude', 'Tempo_Escola', 'Burnout_E', 'Tempo_profissão', 'TAMesc']\n",
    "df_radar = df[use_cols]\n",
    "# df_radar['Idade'] = df.loc[:, 'Idade'] / 10\n",
    "# df_radar['Tempo_profissão'] = df_radar['Tempo_profissão'] / 10\n",
    "\n",
    "df_radar = df_radar.groupby('Burnout_E').mean() # avoid outliers WIRTE THIS!!!\n",
    "df_radar.reset_index().drop(columns=['Burnout_E'])"
   ]
  },
  {
   "cell_type": "code",
   "execution_count": 16,
   "id": "blessed-resort",
   "metadata": {},
   "outputs": [],
   "source": [
    "# Padronização\n",
    "from sklearn.preprocessing import normalize\n",
    "# from sklearn.preprocessing import scale\n",
    "\n",
    "df_norm = pd.DataFrame(normalize(df[use_cols], copy=True))\n",
    "# df_norm = pd.DataFrame(scale(df[use_cols], axis=0, with_mean=True, with_std=True, copy=True))"
   ]
  },
  {
   "cell_type": "code",
   "execution_count": 19,
   "id": "discrete-upgrade",
   "metadata": {},
   "outputs": [
    {
     "data": {
      "text/html": [
       "<div>\n",
       "<style scoped>\n",
       "    .dataframe tbody tr th:only-of-type {\n",
       "        vertical-align: middle;\n",
       "    }\n",
       "\n",
       "    .dataframe tbody tr th {\n",
       "        vertical-align: top;\n",
       "    }\n",
       "\n",
       "    .dataframe thead th {\n",
       "        text-align: right;\n",
       "    }\n",
       "</style>\n",
       "<table border=\"1\" class=\"dataframe\">\n",
       "  <thead>\n",
       "    <tr style=\"text-align: right;\">\n",
       "      <th></th>\n",
       "      <th>SWL</th>\n",
       "      <th>Health</th>\n",
       "      <th>School Time</th>\n",
       "      <th>Profession Time</th>\n",
       "      <th>Engagement</th>\n",
       "    </tr>\n",
       "  </thead>\n",
       "  <tbody>\n",
       "    <tr>\n",
       "      <th>0</th>\n",
       "      <td>5.307757</td>\n",
       "      <td>3.803094</td>\n",
       "      <td>2.568917</td>\n",
       "      <td>0.375612</td>\n",
       "      <td>3.31221</td>\n",
       "    </tr>\n",
       "    <tr>\n",
       "      <th>1</th>\n",
       "      <td>2.462264</td>\n",
       "      <td>1.699561</td>\n",
       "      <td>3.794661</td>\n",
       "      <td>0.211694</td>\n",
       "      <td>1.41249</td>\n",
       "    </tr>\n",
       "  </tbody>\n",
       "</table>\n",
       "</div>"
      ],
      "text/plain": [
       "        SWL    Health  School Time  Profession Time  Engagement\n",
       "0  5.307757  3.803094     2.568917         0.375612     3.31221\n",
       "1  2.462264  1.699561     3.794661         0.211694     1.41249"
      ]
     },
     "execution_count": 19,
     "metadata": {},
     "output_type": "execute_result"
    }
   ],
   "source": [
    "# Normalization + KMeans\n",
    "\n",
    "from sklearn.cluster import KMeans\n",
    "import numpy as np\n",
    "\n",
    "# kmeans = KMeans(n_clusters=2, random_state=0).fit(df[use_cols])\n",
    "kmeans = KMeans(n_clusters=2, random_state=0).fit(df_norm)\n",
    "df_radar = pd.DataFrame(kmeans.cluster_centers_)\n",
    "df_radar = df_radar.drop(columns=[4]).rename(columns={0: 'SWL', 1: 'Health', 2: 'School Time', 3: 'Profession Time', 5: 'Engagement', 6: 'School Size'})\n",
    "df_radar = df_radar.apply(lambda x : x * 10)\n",
    "\n",
    "# df_radar['Age'] = df_radar['Age'].apply(lambda x: x/10)\n",
    "# df_radar2 = df_radar.drop(columns=['Age']).apply(lambda x : x*3)\n",
    "# df_radar2['Age'] = df_radar['Age'] / 2\n",
    "# df_radar = df_radar2\n",
    "\n",
    "df_radar"
   ]
  },
  {
   "cell_type": "code",
   "execution_count": 20,
   "id": "capable-terrace",
   "metadata": {},
   "outputs": [
    {
     "data": {
      "image/png": "[encoded data removed]",
      "text/plain": [
       "<Figure size 864x504 with 1 Axes>"
      ]
     },
     "metadata": {},
     "output_type": "display_data"
    }
   ],
   "source": [
    "# Libraries\n",
    "import matplotlib.pyplot as plt\n",
    "import pandas as pd\n",
    "from math import pi\n",
    "\n",
    "# Set data\n",
    "\"\"\"\n",
    "df = pd.DataFrame({\n",
    "'group': ['A','B','C','D'],\n",
    "'var1': [38, 1.5, 30, 4],\n",
    "'var2': [29, 10, 9, 34],\n",
    "'var3': [8, 39, 23, 24],\n",
    "'var4': [7, 31, 33, 14],\n",
    "'var5': [28, 15, 32, 14]\n",
    "})\n",
    "\"\"\"\n",
    " \n",
    "# ------- PART 1: Create background\n",
    " \n",
    "# number of variable\n",
    "categories=list(df_radar)\n",
    "N = len(categories)\n",
    " \n",
    "# What will be the angle of each axis in the plot? (we divide the plot / number of variable)\n",
    "angles = [n / float(N) * 2 * pi for n in range(N)]\n",
    "angles += angles[:1]\n",
    "\n",
    "plt.figure(figsize=(12,7))\n",
    "\n",
    "# Initialise the spider plot\n",
    "ax = plt.subplot(111, polar=True)\n",
    " \n",
    "# If you want the first axis to be on top:\n",
    "ax.set_theta_offset(pi / 2)\n",
    "ax.set_theta_direction(-1)\n",
    " \n",
    "# Draw one axe per variable + add labels\n",
    "plt.xticks(angles[:-1], categories)\n",
    " \n",
    "# Draw ylabels\n",
    "ax.set_rlabel_position(0)\n",
    "plt.yticks([1,2,3,4,5], [\"1\",\"2\",\"3\",\"4\",\"5\"], color=\"grey\", size=10)\n",
    "plt.ylim(0,6)\n",
    " \n",
    "\n",
    "# ------- PART 2: Add plots\n",
    " \n",
    "# Plot each individual = each line of the data\n",
    "# I don't make a loop, because plotting more than 3 groups makes the chart unreadable\n",
    " \n",
    "# Ind1\n",
    "values=df_radar.loc[0].values.flatten().tolist()\n",
    "values += values[:1]\n",
    "ax.plot(angles, values, linewidth=1, linestyle='solid', label=\"Normal\")\n",
    "ax.fill(angles, values, 'b', alpha=0.1)\n",
    " \n",
    "# Ind2\n",
    "values=df_radar.loc[1].values.flatten().tolist()\n",
    "values += values[:1]\n",
    "ax.plot(angles, values, linewidth=1, linestyle='solid', label=\"Burnout\")\n",
    "ax.fill(angles, values, 'r', alpha=0.1)\n",
    " \n",
    "# Add legend\n",
    "# plt.legend(loc='upper right', bbox_to_anchor=(0.1, 0.1))\n",
    "\n",
    "# Show the graph\n",
    "# plt.figure(figsize=(12,7))\n",
    "plt.savefig('fig7_radar.tiff', dpi=300, format=\"tiff\", pil_kwargs={\"compression\": \"tiff_lzw\"})\n",
    "plt.show()"
   ]
  },
  {
   "cell_type": "code",
   "execution_count": null,
   "id": "recognized-product",
   "metadata": {},
   "outputs": [],
   "source": []
  }
 ],
 "metadata": {
  "kernelspec": {
   "display_name": "Python 3 (ipykernel)",
   "language": "python",
   "name": "python3"
  },
  "language_info": {
   "codemirror_mode": {
    "name": "ipython",
    "version": 3
   },
   "file_extension": ".py",
   "mimetype": "text/x-python",
   "name": "python",
   "nbconvert_exporter": "python",
   "pygments_lexer": "ipython3",
   "version": "3.8.8"
  }
 },
 "nbformat": 4,
 "nbformat_minor": 5
}
