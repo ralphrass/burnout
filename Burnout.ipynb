{
 "cells": [
  {
   "cell_type": "code",
   "execution_count": 37,
   "metadata": {},
   "outputs": [],
   "source": [
    "import pandas as pd\n",
    "import numpy as np\n",
    "import seaborn as sns"
   ]
  },
  {
   "cell_type": "code",
   "execution_count": 2,
   "metadata": {},
   "outputs": [],
   "source": [
    "na_vals = ['#NULO!']"
   ]
  },
  {
   "cell_type": "code",
   "execution_count": 3,
   "metadata": {},
   "outputs": [],
   "source": [
    "df = pd.read_csv('Base 5_T1_VV.csv', sep=';', na_values=na_vals, decimal=\",\")\n",
    "df2 = pd.read_csv('Base 5_T2_VV_Sem_2.csv', sep=';', na_values=na_vals, decimal=\",\")"
   ]
  },
  {
   "cell_type": "code",
   "execution_count": 4,
   "metadata": {},
   "outputs": [
    {
     "data": {
      "text/plain": [
       "set()"
      ]
     },
     "execution_count": 4,
     "metadata": {},
     "output_type": "execute_result"
    }
   ],
   "source": [
    "set(df.columns) - set(df2.columns)"
   ]
  },
  {
   "cell_type": "code",
   "execution_count": null,
   "metadata": {},
   "outputs": [],
   "source": [
    "# df['Licença_2semanas'].describe()"
   ]
  },
  {
   "cell_type": "code",
   "execution_count": null,
   "metadata": {},
   "outputs": [],
   "source": [
    "# df2['Licençasemanas'].describe()"
   ]
  },
  {
   "cell_type": "code",
   "execution_count": null,
   "metadata": {},
   "outputs": [],
   "source": [
    "# df['Área_Ed_Inf'].describe()"
   ]
  },
  {
   "cell_type": "code",
   "execution_count": null,
   "metadata": {},
   "outputs": [],
   "source": [
    "# df2['Área_Ed_InfI'].describe()"
   ]
  },
  {
   "cell_type": "code",
   "execution_count": 6,
   "metadata": {},
   "outputs": [
    {
     "name": "stdout",
     "output_type": "stream",
     "text": [
      "(2075, 122) (3509, 122)\n"
     ]
    }
   ],
   "source": [
    "# print(df.shape, df2.shape)"
   ]
  },
  {
   "cell_type": "code",
   "execution_count": 5,
   "metadata": {},
   "outputs": [],
   "source": [
    "df_joined = pd.concat([df, df2])"
   ]
  },
  {
   "cell_type": "code",
   "execution_count": 6,
   "metadata": {},
   "outputs": [
    {
     "data": {
      "text/plain": [
       "(5584, 122)"
      ]
     },
     "execution_count": 6,
     "metadata": {},
     "output_type": "execute_result"
    }
   ],
   "source": [
    "df_joined.shape"
   ]
  },
  {
   "cell_type": "code",
   "execution_count": 30,
   "metadata": {},
   "outputs": [
    {
     "name": "stdout",
     "output_type": "stream",
     "text": [
      "Código\n",
      "Município\n",
      "escola1\n",
      "Numero_escolas_trabalha\n",
      "Escola_resp_Quest\n",
      "Tipo_escola\n",
      "Niveis_escola\n",
      "Idade\n",
      "Sexo\n",
      "Formação\n",
      "Área_Ed_Inf\n",
      "Área_EF_finais\n",
      "Área_EF_iniciais\n",
      "Área_Ens_Médio\n",
      "Área_Ens_Téc\n",
      "Contrato\n",
      "Outro_qual\n",
      "Tempo_Escola\n",
      "Tempo_profissão\n",
      "Hrs_semanais\n",
      "Numero_professores\n",
      "Supervisiona\n",
      "Licença_2semanas\n",
      "Porquê_A\n",
      "Licença_ano\n",
      "Quantotempo\n",
      "Porquê_B\n",
      "trab1\n",
      "trab2\n",
      "trab3\n",
      "trab4\n",
      "trab5\n",
      "trab6\n",
      "trab7\n",
      "trab8\n",
      "trab9\n",
      "trab10\n",
      "trab11\n",
      "trab12\n",
      "trab13\n",
      "trab14\n",
      "trab15\n",
      "trab16\n",
      "trab17\n",
      "trab18\n",
      "trab19\n",
      "trab20\n",
      "trab21\n",
      "trab22\n",
      "trab23\n",
      "trab24\n",
      "trab25\n",
      "trab26\n",
      "trab27\n",
      "trab28\n",
      "trab29\n",
      "trab30\n",
      "trab31\n",
      "trab32\n",
      "atitrab1\n",
      "atitrab2\n",
      "atitrab3\n",
      "atitrab4\n",
      "atitrab5\n",
      "atitrab6\n",
      "atitrab7\n",
      "atitrab8\n",
      "atitrab9\n",
      "atitrab10\n",
      "atitrab11\n",
      "atitrab12\n",
      "atitrab13\n",
      "atitrab14\n",
      "atitrab15\n",
      "atitrab16\n",
      "atitrab17\n",
      "atitrab18\n",
      "atitrab19\n",
      "atitrab20\n",
      "be1\n",
      "be2\n",
      "be3\n",
      "be4\n",
      "be5\n",
      "be6\n",
      "be7\n",
      "be8\n",
      "be9\n",
      "be10\n",
      "be11\n",
      "be12\n",
      "be13\n",
      "be14\n",
      "be15\n",
      "be16\n",
      "be17\n",
      "be18\n",
      "be19\n",
      "bes1\n",
      "bes2\n",
      "bes3\n",
      "bes4\n",
      "bes5\n",
      "saude1\n",
      "saude2\n",
      "saude3\n",
      "saude4\n",
      "MPS\n",
      "IPPS\n",
      "IOPS\n",
      "ISP\n",
      "CAFC\n",
      "VSP\n",
      "ARE\n",
      "DED\n",
      "ARS\n",
      "AED\n",
      "Engagement\n",
      "Exaustao\n",
      "Cinismo\n",
      "SCV\n",
      "Saude\n"
     ]
    }
   ],
   "source": [
    "for c in df_joined_cats.columns:\n",
    "    print(c)"
   ]
  },
  {
   "cell_type": "code",
   "execution_count": 7,
   "metadata": {},
   "outputs": [],
   "source": [
    "cat_cols = [idx for idx, val in df_joined.dtypes.items() if val == 'object']"
   ]
  },
  {
   "cell_type": "code",
   "execution_count": 8,
   "metadata": {},
   "outputs": [
    {
     "name": "stdout",
     "output_type": "stream",
     "text": [
      "['Código', 'Município', 'escola1', 'Escola_resp_Quest', 'Contrato', 'Outro_qual', 'Porquê_A', 'Quantotempo', 'Porquê_B']\n"
     ]
    }
   ],
   "source": [
    "print(cat_cols)"
   ]
  },
  {
   "cell_type": "code",
   "execution_count": 9,
   "metadata": {},
   "outputs": [
    {
     "data": {
      "text/html": [
       "<div>\n",
       "<style scoped>\n",
       "    .dataframe tbody tr th:only-of-type {\n",
       "        vertical-align: middle;\n",
       "    }\n",
       "\n",
       "    .dataframe tbody tr th {\n",
       "        vertical-align: top;\n",
       "    }\n",
       "\n",
       "    .dataframe thead th {\n",
       "        text-align: right;\n",
       "    }\n",
       "</style>\n",
       "<table border=\"1\" class=\"dataframe\">\n",
       "  <thead>\n",
       "    <tr style=\"text-align: right;\">\n",
       "      <th></th>\n",
       "      <th>Código</th>\n",
       "      <th>Município</th>\n",
       "      <th>escola1</th>\n",
       "      <th>Escola_resp_Quest</th>\n",
       "      <th>Contrato</th>\n",
       "      <th>Outro_qual</th>\n",
       "      <th>Porquê_A</th>\n",
       "      <th>Quantotempo</th>\n",
       "      <th>Porquê_B</th>\n",
       "    </tr>\n",
       "  </thead>\n",
       "  <tbody>\n",
       "    <tr>\n",
       "      <th>count</th>\n",
       "      <td>3970</td>\n",
       "      <td>3970</td>\n",
       "      <td>3963</td>\n",
       "      <td>3941</td>\n",
       "      <td>3910</td>\n",
       "      <td>109</td>\n",
       "      <td>127</td>\n",
       "      <td>727</td>\n",
       "      <td>724</td>\n",
       "    </tr>\n",
       "    <tr>\n",
       "      <th>unique</th>\n",
       "      <td>2887</td>\n",
       "      <td>16</td>\n",
       "      <td>294</td>\n",
       "      <td>287</td>\n",
       "      <td>11</td>\n",
       "      <td>61</td>\n",
       "      <td>119</td>\n",
       "      <td>115</td>\n",
       "      <td>575</td>\n",
       "    </tr>\n",
       "    <tr>\n",
       "      <th>top</th>\n",
       "      <td>GUCA084</td>\n",
       "      <td>Passo Fundo</td>\n",
       "      <td>Instituto Menino Deus</td>\n",
       "      <td>Instituto Menino Deus</td>\n",
       "      <td>1</td>\n",
       "      <td>Temporário</td>\n",
       "      <td>PNEUMONIA</td>\n",
       "      <td>15</td>\n",
       "      <td>Cirurgia.</td>\n",
       "    </tr>\n",
       "    <tr>\n",
       "      <th>freq</th>\n",
       "      <td>14</td>\n",
       "      <td>1188</td>\n",
       "      <td>118</td>\n",
       "      <td>117</td>\n",
       "      <td>1759</td>\n",
       "      <td>16</td>\n",
       "      <td>2</td>\n",
       "      <td>50</td>\n",
       "      <td>15</td>\n",
       "    </tr>\n",
       "  </tbody>\n",
       "</table>\n",
       "</div>"
      ],
      "text/plain": [
       "         Código    Município                escola1      Escola_resp_Quest  \\\n",
       "count      3970         3970                   3963                   3941   \n",
       "unique     2887           16                    294                    287   \n",
       "top     GUCA084  Passo Fundo  Instituto Menino Deus  Instituto Menino Deus   \n",
       "freq         14         1188                    118                    117   \n",
       "\n",
       "       Contrato  Outro_qual   Porquê_A Quantotempo   Porquê_B  \n",
       "count      3910         109        127         727        724  \n",
       "unique       11          61        119         115        575  \n",
       "top           1  Temporário  PNEUMONIA          15  Cirurgia.  \n",
       "freq       1759          16          2          50         15  "
      ]
     },
     "execution_count": 9,
     "metadata": {},
     "output_type": "execute_result"
    }
   ],
   "source": [
    "df_joined[cat_cols].describe()"
   ]
  },
  {
   "cell_type": "code",
   "execution_count": 10,
   "metadata": {},
   "outputs": [
    {
     "data": {
      "text/plain": [
       "294               Acompanhamento do filho de 1 an\n",
       "362                               Filhos doentes.\n",
       "714                                 Filha doente.\n",
       "779                                 Filho doente.\n",
       "1017                                 filho doente\n",
       "1212                                 FILHO DOENTE\n",
       "1322                                       Filhos\n",
       "1715                          Acompanhando filha.\n",
       "2066                 Meus filhos ficaram doentes.\n",
       "358                                  Filha doente\n",
       "509                                  FILHO DOENTE\n",
       "590                                         Filha\n",
       "908                          ACOMPANHAMENTO FILHA\n",
       "1454                             Doença do filho.\n",
       "1517                      ACOMPANHAR FILHO DOENTE\n",
       "1745    ACOMPANHANDO MINHA FILHA QUE FEZ CIRURGIA\n",
       "Name: Porquê_A, dtype: object"
      ]
     },
     "execution_count": 10,
     "metadata": {},
     "output_type": "execute_result"
    }
   ],
   "source": [
    "# Porquê_A = \"Filho\"\n",
    "df_joined[df_joined['Porquê_A'].str.contains(\"Filh\", case=False) == True]['Porquê_A']"
   ]
  },
  {
   "cell_type": "code",
   "execution_count": 11,
   "metadata": {},
   "outputs": [],
   "source": [
    "df_joined.loc[df_joined['Porquê_A'].str.contains(\"Filh\", case=False) == True, 'Porquê_A'] = \"Filho\"\n",
    "df_joined.loc[df_joined['Porquê_A'].str.contains(\"Coluna\", case=False) == True, 'Porquê_A'] = \"Coluna\"\n",
    "df_joined.loc[df_joined['Porquê_A'].str.contains(\"Acompanha\", case=False) == True, 'Porquê_A'] = \"Acompanhamento\"\n",
    "df_joined.loc[df_joined['Porquê_A'].str.contains(\"Cirurgia\", case=False) == True, 'Porquê_A'] = \"Cirurgia\"\n",
    "df_joined.loc[df_joined['Porquê_A'].str.contains(\"Conjuntivite\", case=False) == True, 'Porquê_A'] = \"Conjuntivite\"\n",
    "df_joined.loc[df_joined['Porquê_A'].str.contains(\"Consulta\", case=False) == True, 'Porquê_A'] = \"Consulta\""
   ]
  },
  {
   "cell_type": "code",
   "execution_count": 12,
   "metadata": {},
   "outputs": [],
   "source": [
    "df_joined.loc[df_joined['Porquê_B'].str.contains(\"Aborto\", case=False) == True, 'Porquê_B'] = \"Aborto\"\n",
    "df_joined.loc[df_joined['Porquê_B'].str.contains(\"Acompanha\", case=False) == True, 'Porquê_B'] = \"Acompanhamento\"\n",
    "df_joined.loc[df_joined['Porquê_B'].str.contains(\"Caxumba\", case=False) == True, 'Porquê_B'] = \"Caxumba\"\n",
    "df_joined.loc[df_joined['Porquê_B'].str.contains(\"Cirurgia\", case=False) == True, 'Porquê_B'] = \"Cirurgia\"\n",
    "df_joined.loc[df_joined['Porquê_B'].str.contains(\"Coluna\", case=False) == True, 'Porquê_B'] = \"Coluna\"\n",
    "df_joined.loc[df_joined['Porquê_B'].str.contains(\"Depressão\", case=False) == True, 'Porquê_B'] = \"Depressão\"\n",
    "df_joined.loc[df_joined['Porquê_B'].str.contains(\"stress\", case=False) == True, 'Porquê_B'] = \"Estresse\"\n",
    "df_joined.loc[df_joined['Porquê_B'].str.contains(\"Filh\", case=False) == True, 'Porquê_B'] = \"Filho\"\n",
    "df_joined.loc[df_joined['Porquê_B'].str.contains(\"Fratur\", case=False) == True, 'Porquê_B'] = \"Fratura\"\n",
    "df_joined.loc[df_joined['Porquê_B'].str.contains(\"Gripe\", case=False) == True, 'Porquê_B'] = \"Gripe\"\n",
    "df_joined.loc[df_joined['Porquê_B'].str.contains(\"Infecção\", case=False) == True, 'Porquê_B'] = \"Infecção\"\n",
    "df_joined.loc[df_joined['Porquê_B'].str.contains(\"Labirintite\", case=False) == True, 'Porquê_B'] = \"Labirintite\"\n",
    "df_joined.loc[df_joined['Porquê_B'].str.contains(\"Lesão\", case=False) == True, 'Porquê_B'] = \"Lesão\"\n",
    "df_joined.loc[df_joined['Porquê_B'].str.contains(\"Licença\", case=False) == True, 'Porquê_B'] = \"Licença\"\n",
    "df_joined.loc[df_joined['Porquê_B'].str.contains(\"Virose\", case=False) == True, 'Porquê_B'] = \"Virose\""
   ]
  },
  {
   "cell_type": "code",
   "execution_count": 13,
   "metadata": {},
   "outputs": [
    {
     "data": {
      "text/plain": [
       "count       127\n",
       "unique       83\n",
       "top       Filho\n",
       "freq         16\n",
       "Name: Porquê_A, dtype: object"
      ]
     },
     "execution_count": 13,
     "metadata": {},
     "output_type": "execute_result"
    }
   ],
   "source": [
    "df_joined['Porquê_A'].describe()"
   ]
  },
  {
   "cell_type": "code",
   "execution_count": 14,
   "metadata": {},
   "outputs": [
    {
     "data": {
      "text/plain": [
       "count          724\n",
       "unique         299\n",
       "top       Cirurgia\n",
       "freq           145\n",
       "Name: Porquê_B, dtype: object"
      ]
     },
     "execution_count": 14,
     "metadata": {},
     "output_type": "execute_result"
    }
   ],
   "source": [
    "df_joined['Porquê_B'].describe()"
   ]
  },
  {
   "cell_type": "code",
   "execution_count": 15,
   "metadata": {},
   "outputs": [],
   "source": [
    "df_joined_cats = df_joined.copy()\n",
    "df_joined_cats[cat_cols] = df_joined[cat_cols].astype('category')"
   ]
  },
  {
   "cell_type": "code",
   "execution_count": 16,
   "metadata": {},
   "outputs": [],
   "source": [
    "for cat_col in cat_cols:\n",
    "    df_joined_cats[cat_col] = df_joined_cats[cat_col].cat.codes"
   ]
  },
  {
   "cell_type": "code",
   "execution_count": 17,
   "metadata": {},
   "outputs": [],
   "source": [
    "df_joined_cats[cat_cols] = df_joined_cats[cat_cols].replace(-1, np.nan)"
   ]
  },
  {
   "cell_type": "code",
   "execution_count": 18,
   "metadata": {},
   "outputs": [],
   "source": [
    "# 148 - 95 = 53 colunas com algum valor em branco\n",
    "# df_joined.dropna(axis=0, how='all').shape\n",
    "df_joined_cats = df_joined_cats.dropna(axis=0, how='all')"
   ]
  },
  {
   "cell_type": "code",
   "execution_count": 19,
   "metadata": {},
   "outputs": [
    {
     "data": {
      "text/plain": [
       "(3970, 122)"
      ]
     },
     "execution_count": 19,
     "metadata": {},
     "output_type": "execute_result"
    }
   ],
   "source": [
    "df_joined_cats.shape"
   ]
  },
  {
   "cell_type": "code",
   "execution_count": 20,
   "metadata": {},
   "outputs": [
    {
     "data": {
      "text/plain": [
       "Código                   0\n",
       "SCV                      0\n",
       "MPS                      0\n",
       "IPPS                     0\n",
       "ISP                      0\n",
       "ARE                      0\n",
       "DED                      0\n",
       "trab9                    0\n",
       "AED                      0\n",
       "Engagement               0\n",
       "Exaustao                 0\n",
       "Cinismo                  0\n",
       "Município                0\n",
       "ARS                      0\n",
       "trab10                   1\n",
       "CAFC                     1\n",
       "IOPS                     1\n",
       "VSP                      1\n",
       "bes5                     2\n",
       "trab11                   2\n",
       "Saude                    2\n",
       "bes4                     3\n",
       "trab32                   3\n",
       "saude4                   4\n",
       "trab12                   4\n",
       "atitrab1                 5\n",
       "trab13                   5\n",
       "trab8                    6\n",
       "atitrab13                6\n",
       "be1                      7\n",
       "                      ... \n",
       "Área_Ens_Médio          35\n",
       "atitrab20               36\n",
       "trab26                  38\n",
       "atitrab17               38\n",
       "atitrab6                41\n",
       "be15                    44\n",
       "be17                    44\n",
       "trab24                  44\n",
       "trab27                  45\n",
       "atitrab14               52\n",
       "atitrab2                53\n",
       "be6                     53\n",
       "be13                    56\n",
       "atitrab3                56\n",
       "Tempo_Escola            57\n",
       "Contrato                60\n",
       "Formação                62\n",
       "atitrab18               64\n",
       "Supervisiona            65\n",
       "trab25                  70\n",
       "Tipo_escola             76\n",
       "Idade                   82\n",
       "Niveis_escola          137\n",
       "Hrs_semanais           142\n",
       "Tempo_profissão        313\n",
       "Numero_professores     335\n",
       "Quantotempo           3243\n",
       "Porquê_B              3246\n",
       "Porquê_A              3843\n",
       "Outro_qual            3861\n",
       "Length: 122, dtype: int64"
      ]
     },
     "execution_count": 20,
     "metadata": {},
     "output_type": "execute_result"
    }
   ],
   "source": [
    "df_joined_cats.isnull().sum().sort_values()"
   ]
  },
  {
   "cell_type": "code",
   "execution_count": 21,
   "metadata": {},
   "outputs": [],
   "source": [
    "# -1 para os categóricos\n",
    "df_joined_cats[cat_cols] = df_joined_cats[cat_cols].replace(np.nan, -1)"
   ]
  },
  {
   "cell_type": "code",
   "execution_count": 22,
   "metadata": {},
   "outputs": [],
   "source": [
    "# Média para os demais\n",
    "df_joined_cats.isnull().sum().items()\n",
    "cols_null = [idx for (idx, val) in df_joined_cats.isnull().sum().items() if val > 0 ]\n",
    "for c in cols_null:\n",
    "    df_joined_cats[c] = df_joined_cats[c].replace(np.nan, df_joined_cats[c].mean())"
   ]
  },
  {
   "cell_type": "code",
   "execution_count": null,
   "metadata": {},
   "outputs": [],
   "source": [
    "# 1. Definir valores NA \"#NULO!\" (ok)\n",
    "# 2. Unificar colunas e linhas (ok)\n",
    "# 3. Converter valores numéricos com vírgula para ponto (ok)\n",
    "# 4. Transformar valores descritivos em categóricos com códigos (ok)\n",
    "# 7. Transformar colunas descritivas em categoria (radicais de palavras, centralizar problemas) (ok, manual)\n",
    "# 5. Dropar colunas/linhas com NA que não irão auxiliar (ok)\n",
    "# 6. Preencher valores NA de colunas mantidas (ok)\n",
    "# 8. Implementar multi-target regression e medir qualidade"
   ]
  },
  {
   "cell_type": "code",
   "execution_count": 64,
   "metadata": {},
   "outputs": [
    {
     "data": {
      "text/plain": [
       "Index(['Código', 'Município', 'escola1', 'Numero_escolas_trabalha',\n",
       "       'Escola_resp_Quest', 'Tipo_escola', 'Niveis_escola', 'Idade', 'Sexo',\n",
       "       'Formação', 'Área_Ed_Inf', 'Área_EF_finais', 'Área_EF_iniciais',\n",
       "       'Área_Ens_Médio', 'Área_Ens_Téc', 'Contrato', 'Outro_qual',\n",
       "       'Tempo_Escola', 'Tempo_profissão', 'Hrs_semanais', 'Numero_professores',\n",
       "       'Supervisiona', 'Licença_2semanas', 'Porquê_A', 'Licença_ano',\n",
       "       'Quantotempo', 'Porquê_B', 'MPS', 'IPPS', 'IOPS', 'ISP', 'CAFC', 'VSP',\n",
       "       'ARE', 'DED', 'ARS', 'AED', 'Engagement', 'Exaustao', 'Cinismo', 'SCV',\n",
       "       'Saude'],\n",
       "      dtype='object')"
      ]
     },
     "execution_count": 64,
     "metadata": {},
     "output_type": "execute_result"
    }
   ],
   "source": [
    "# Dez/2019: classificação\n",
    "# print(df_joined_cats.Exaustao.describe(), df_joined_cats.Cinismo.describe(), df_joined_cats.SCV.describe())\n",
    "trab_cols = ['trab'+str(i) for i in range(1, 33)]\n",
    "atitrab_cols = ['atitrab'+str(i) for i in range(1, 21)]\n",
    "be_cols = ['be'+str(i) for i in range(1, 20)]\n",
    "bes_cols = ['bes'+str(i) for i in range(1, 6)]\n",
    "saude_cols = ['saude'+str(i) for i in range(1, 5)]\n",
    "\n",
    "df_features = df_joined_cats.drop(columns=trab_cols+atitrab_cols+be_cols+bes_cols+saude_cols)\n",
    "df_features.columns"
   ]
  },
  {
   "cell_type": "code",
   "execution_count": 60,
   "metadata": {},
   "outputs": [
    {
     "name": "stdout",
     "output_type": "stream",
     "text": [
      "            Exaustao   Cinismo       SCV  Engagement     Saude       MPS  \\\n",
      "Exaustao    1.000000  0.513353 -0.347050   -0.442947 -0.375892 -0.078648   \n",
      "Cinismo     0.513353  1.000000 -0.265737   -0.374532 -0.228078 -0.103564   \n",
      "SCV        -0.347050 -0.265737  1.000000    0.392132  0.476038  0.142417   \n",
      "Engagement -0.442947 -0.374532  0.392132    1.000000  0.311882  0.166114   \n",
      "Saude      -0.375892 -0.228078  0.476038    0.311882  1.000000  0.083692   \n",
      "MPS        -0.078648 -0.103564  0.142417    0.166114  0.083692  1.000000   \n",
      "IPPS       -0.057515 -0.106103  0.128727    0.205629  0.042859  0.490397   \n",
      "IOPS       -0.131783 -0.135350  0.158031    0.261140  0.110037  0.285975   \n",
      "ISP        -0.122781 -0.151577  0.247266    0.287318  0.184343  0.504419   \n",
      "CAFC       -0.086639 -0.091173  0.163564    0.206164  0.074117  0.333552   \n",
      "VSP        -0.226932 -0.224389  0.296726    0.350838  0.240143  0.283590   \n",
      "ARE        -0.136610 -0.116733  0.188047    0.294768  0.112045  0.161614   \n",
      "DED         0.072123  0.128564  0.068984    0.007547  0.045656 -0.023829   \n",
      "ARS        -0.152120 -0.131720  0.216776    0.316280  0.158344  0.163388   \n",
      "AED        -0.175432 -0.151648  0.229777    0.376969  0.127825  0.233959   \n",
      "\n",
      "                IPPS      IOPS       ISP      CAFC       VSP       ARE  \\\n",
      "Exaustao   -0.057515 -0.131783 -0.122781 -0.086639 -0.226932 -0.136610   \n",
      "Cinismo    -0.106103 -0.135350 -0.151577 -0.091173 -0.224389 -0.116733   \n",
      "SCV         0.128727  0.158031  0.247266  0.163564  0.296726  0.188047   \n",
      "Engagement  0.205629  0.261140  0.287318  0.206164  0.350838  0.294768   \n",
      "Saude       0.042859  0.110037  0.184343  0.074117  0.240143  0.112045   \n",
      "MPS         0.490397  0.285975  0.504419  0.333552  0.283590  0.161614   \n",
      "IPPS        1.000000  0.384806  0.454909  0.293918  0.257397  0.157790   \n",
      "IOPS        0.384806  1.000000  0.361541  0.190994  0.305746  0.094054   \n",
      "ISP         0.454909  0.361541  1.000000  0.394140  0.501331  0.280928   \n",
      "CAFC        0.293918  0.190994  0.394140  1.000000  0.315895  0.165038   \n",
      "VSP         0.257397  0.305746  0.501331  0.315895  1.000000  0.250163   \n",
      "ARE         0.157790  0.094054  0.280928  0.165038  0.250163  1.000000   \n",
      "DED         0.009753  0.047104  0.045357  0.017352  0.060200  0.119431   \n",
      "ARS         0.198082  0.303936  0.232716  0.175790  0.283231  0.247945   \n",
      "AED         0.281841  0.177616  0.327931  0.233541  0.270324  0.463730   \n",
      "\n",
      "                 DED       ARS       AED  \n",
      "Exaustao    0.072123 -0.152120 -0.175432  \n",
      "Cinismo     0.128564 -0.131720 -0.151648  \n",
      "SCV         0.068984  0.216776  0.229777  \n",
      "Engagement  0.007547  0.316280  0.376969  \n",
      "Saude       0.045656  0.158344  0.127825  \n",
      "MPS        -0.023829  0.163388  0.233959  \n",
      "IPPS        0.009753  0.198082  0.281841  \n",
      "IOPS        0.047104  0.303936  0.177616  \n",
      "ISP         0.045357  0.232716  0.327931  \n",
      "CAFC        0.017352  0.175790  0.233541  \n",
      "VSP         0.060200  0.283231  0.270324  \n",
      "ARE         0.119431  0.247945  0.463730  \n",
      "DED         1.000000  0.156879  0.035823  \n",
      "ARS         0.156879  1.000000  0.541822  \n",
      "AED         0.035823  0.541822  1.000000  \n"
     ]
    },
    {
     "data": {
      "text/plain": [
       "<matplotlib.axes._subplots.AxesSubplot at 0x139f45a6080>"
      ]
     },
     "execution_count": 60,
     "metadata": {},
     "output_type": "execute_result"
    },
    {
     "data": {
      "image/png": "[encoded data removed]",
      "text/plain": [
       "<Figure size 432x288 with 2 Axes>"
      ]
     },
     "metadata": {},
     "output_type": "display_data"
    }
   ],
   "source": [
    "# Dez/2019: classificação\n",
    "\n",
    "x = df_joined_cats.iloc[0]\n",
    "# x.Exaustao * x.Cinismo * x.SCV\n",
    "corr = df_joined_cats[['Exaustao', 'Cinismo', 'SCV'] + ['Engagement', 'Saude', 'MPS', 'IPPS', 'IOPS', 'ISP', 'CAFC', 'VSP', 'ARE', 'DED', 'ARS', 'AED']].corr()\n",
    "print(corr)\n",
    "sns.heatmap(corr, center=0,\n",
    "            square=True, linewidths=.5, cbar_kws={\"shrink\": .5})"
   ]
  },
  {
   "cell_type": "code",
   "execution_count": null,
   "metadata": {},
   "outputs": [],
   "source": [
    "# Dez/2019: classificação\n"
   ]
  },
  {
   "cell_type": "code",
   "execution_count": 23,
   "metadata": {},
   "outputs": [
    {
     "name": "stdout",
     "output_type": "stream",
     "text": [
      "(3970, 120) (3970, 2)\n"
     ]
    }
   ],
   "source": [
    "# https://scikit-learn.org/stable/auto_examples/ensemble/plot_random_forest_regression_multioutput.html#sphx-glr-auto-examples-ensemble-plot-random-forest-regression-multioutput-py\n",
    "\n",
    "import matplotlib.pyplot as plt\n",
    "from sklearn.ensemble import RandomForestRegressor\n",
    "from sklearn.model_selection import train_test_split\n",
    "from sklearn.multioutput import MultiOutputRegressor\n",
    "\n",
    "target_cols = ['Exaustao', 'Cinismo']\n",
    "\n",
    "X = df_joined_cats.drop(columns=target_cols).values\n",
    "y = df_joined_cats[target_cols].values\n",
    "\n",
    "print(X.shape, y.shape)\n"
   ]
  },
  {
   "cell_type": "code",
   "execution_count": 24,
   "metadata": {},
   "outputs": [],
   "source": [
    "X_train, X_test, y_train, y_test = train_test_split(\n",
    "    X, y, test_size=0.33, random_state=0)\n",
    "# train_size=400, test_size=200,\n",
    "\n",
    "max_depth = 30\n",
    "regr_multirf = MultiOutputRegressor(RandomForestRegressor(n_estimators=100,\n",
    "                                                          max_depth=max_depth,\n",
    "                                                          random_state=0))\n",
    "regr_multirf.fit(X_train, y_train)\n",
    "\n",
    "regr_rf = RandomForestRegressor(n_estimators=100, max_depth=max_depth, random_state=2)\n",
    "regr_rf.fit(X_train, y_train)\n",
    "\n",
    "# Predict on new data\n",
    "y_multirf = regr_multirf.predict(X_test)\n",
    "y_rf = regr_rf.predict(X_test)\n"
   ]
  },
  {
   "cell_type": "code",
   "execution_count": 30,
   "metadata": {},
   "outputs": [
    {
     "data": {
      "image/png": "[encoded data removed]",
      "text/plain": [
       "<Figure size 432x288 with 1 Axes>"
      ]
     },
     "metadata": {},
     "output_type": "display_data"
    }
   ],
   "source": [
    "# Plot the results\n",
    "plt.figure()\n",
    "s = 50\n",
    "a = 0.4\n",
    "plt.scatter(y_test[:, 0], y_test[:, 1], edgecolor='k',\n",
    "            c=\"navy\", s=s, marker=\"s\", alpha=a, label=\"Data\")\n",
    "plt.scatter(y_multirf[:, 0], y_multirf[:, 1], edgecolor='k',\n",
    "            c=\"cornflowerblue\", s=s, alpha=a,\n",
    "            label=\"Multi RF score=%.2f\" % regr_multirf.score(X_test, y_test))\n",
    "plt.scatter(y_rf[:, 0], y_rf[:, 1], edgecolor='k',\n",
    "            c=\"c\", s=s, marker=\"^\", alpha=a,\n",
    "            label=\"RF score=%.2f\" % regr_rf.score(X_test, y_test))\n",
    "plt.xlim([-6, 6])\n",
    "plt.ylim([-6, 6])\n",
    "plt.xlabel(\"target 1\")\n",
    "plt.ylabel(\"target 2\")\n",
    "plt.title(\"Comparing random forests and the multi-output meta estimator\")\n",
    "plt.legend()\n",
    "plt.show()"
   ]
  },
  {
   "cell_type": "code",
   "execution_count": 32,
   "metadata": {},
   "outputs": [
    {
     "data": {
      "text/plain": [
       "count    3970.000000\n",
       "mean        0.998209\n",
       "std         1.137751\n",
       "min         0.000000\n",
       "25%         0.200000\n",
       "50%         0.600000\n",
       "75%         1.400000\n",
       "max         6.000000\n",
       "Name: Cinismo, dtype: float64"
      ]
     },
     "execution_count": 32,
     "metadata": {},
     "output_type": "execute_result"
    }
   ],
   "source": [
    "df_joined_cats['Cinismo'].describe()"
   ]
  },
  {
   "cell_type": "code",
   "execution_count": 33,
   "metadata": {},
   "outputs": [
    {
     "data": {
      "text/plain": [
       "count    3970.000000\n",
       "mean        2.854605\n",
       "std         1.580193\n",
       "min         0.000000\n",
       "25%         1.600000\n",
       "50%         2.800000\n",
       "75%         4.200000\n",
       "max        17.000000\n",
       "Name: Exaustao, dtype: float64"
      ]
     },
     "execution_count": 33,
     "metadata": {},
     "output_type": "execute_result"
    }
   ],
   "source": [
    "df_joined_cats['Exaustao'].describe()"
   ]
  },
  {
   "cell_type": "code",
   "execution_count": 36,
   "metadata": {},
   "outputs": [
    {
     "data": {
      "text/plain": [
       "1752    0.00\n",
       "941     0.00\n",
       "940     0.00\n",
       "937     0.00\n",
       "934     0.00\n",
       "1998    0.00\n",
       "1621    0.00\n",
       "765     0.00\n",
       "930     0.00\n",
       "927     0.00\n",
       "926     0.00\n",
       "925     0.00\n",
       "2001    0.00\n",
       "759     0.00\n",
       "921     0.00\n",
       "928     0.00\n",
       "2006    0.00\n",
       "766     0.00\n",
       "945     0.00\n",
       "968     0.00\n",
       "1975    0.00\n",
       "964     0.00\n",
       "769     0.00\n",
       "1983    0.00\n",
       "958     0.00\n",
       "1624    0.00\n",
       "1128    0.00\n",
       "953     0.00\n",
       "952     0.00\n",
       "1131    0.00\n",
       "        ... \n",
       "866     5.00\n",
       "364     5.00\n",
       "103     5.00\n",
       "348     5.00\n",
       "106     5.00\n",
       "976     5.00\n",
       "1195    5.00\n",
       "644     5.00\n",
       "514     5.20\n",
       "1649    5.20\n",
       "1542    5.20\n",
       "1978    5.20\n",
       "1308    5.20\n",
       "666     5.40\n",
       "1090    5.40\n",
       "334     5.40\n",
       "556     5.60\n",
       "1794    5.60\n",
       "1353    5.60\n",
       "1869    5.60\n",
       "132     5.75\n",
       "493     5.80\n",
       "1494    5.80\n",
       "943     6.00\n",
       "824     6.00\n",
       "855     6.00\n",
       "808     6.00\n",
       "1696    6.00\n",
       "1723    6.00\n",
       "437     6.00\n",
       "Name: Cinismo, Length: 3970, dtype: float64"
      ]
     },
     "execution_count": 36,
     "metadata": {},
     "output_type": "execute_result"
    }
   ],
   "source": [
    "df_joined_cats['Cinismo'].sort_values()"
   ]
  }
 ],
 "metadata": {
  "kernelspec": {
   "display_name": "Python 3",
   "language": "python",
   "name": "python3"
  },
  "language_info": {
   "codemirror_mode": {
    "name": "ipython",
    "version": 3
   },
   "file_extension": ".py",
   "mimetype": "text/x-python",
   "name": "python",
   "nbconvert_exporter": "python",
   "pygments_lexer": "ipython3",
   "version": "3.6.5"
  }
 },
 "nbformat": 4,
 "nbformat_minor": 2
}
