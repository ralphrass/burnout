{
 "cells": [
  {
   "cell_type": "markdown",
   "metadata": {},
   "source": [
    "Conclusão: Não há consenso na determinação de burnout porque os valores variam conforme a população analisada e o contexto em que ela está inserida. Além disso, como não há mapeamento de burnout como doença nas listagens médicas tradicionais (como o CID-10), há receio da comunidade científica em determinar um diagnóstico. \n",
    "\n",
    "Proposta: Sendo assim, proponho fazer experimentos para realizar a predição de burnout como classificação utlizando as faixas de resultados das dimensões cinismo, exaustão e eficácia em três variações: (conforme https://www.tandfonline.com/doi/full/10.1080/2331205X.2016.1237605):\n",
    "Combinação de exaustão (E) e cinismo (C) altas com eficácia no trabalho (T) baixa.\n",
    "(E) alta e/ou (C) alta.\n",
    "Escore alto em qualquer uma das três dimensões.\n",
    "Para determinar um escore alto posso utilizar como critério:\n",
    "Estar acima da média do escore.\n",
    "Estar com 1 desvio padrão acima da média do escore (se a distribuição dos escores for gaussiana).\n",
    "Estar acima do terceiro quartil do intervalo do escore.\n",
    "Desta forma, o nosso trabalho poderá ser usado para responder às perguntas:\n",
    "\n",
    "É possível realizar a predição de burnout como um problema de classificação (no contexto da pesquisa do Prof Carlos)? Qual das combinações gera o melhor resultado?\n",
    "\n",
    "Além disso, como complemento, podemos responder também às perguntas:\n",
    "\n",
    "Há correlação entre as três dimensões que caracterizam burnout?\n",
    "Quais são os sumarizadores (MPS, IPPS, IOPS, etc.) que mais contribuem para fazer a predição de burnout?\n",
    "Quais outros fatores são comuns para indivíduos classificados com burnout positivo (escola, faixa etária, gênero, etc.)?\n"
   ]
  },
  {
   "cell_type": "code",
   "execution_count": 1,
   "metadata": {},
   "outputs": [],
   "source": [
    "import pandas as pd\n",
    "import numpy as np\n",
    "import seaborn as sns\n",
    "import matplotlib.pyplot as plt"
   ]
  },
  {
   "cell_type": "code",
   "execution_count": 2,
   "metadata": {},
   "outputs": [],
   "source": [
    "na_vals = ['#NULO!']"
   ]
  },
  {
   "cell_type": "code",
   "execution_count": 3,
   "metadata": {},
   "outputs": [],
   "source": [
    "df = pd.read_csv('Base 5_T1_VV.csv', sep=';', na_values=na_vals, decimal=\",\")\n",
    "df2 = pd.read_csv('Base 5_T2_VV_Sem_2.csv', sep=';', na_values=na_vals, decimal=\",\")"
   ]
  },
  {
   "cell_type": "code",
   "execution_count": 4,
   "metadata": {},
   "outputs": [
    {
     "data": {
      "text/plain": [
       "set()"
      ]
     },
     "execution_count": 4,
     "metadata": {},
     "output_type": "execute_result"
    }
   ],
   "source": [
    "set(df.columns) - set(df2.columns)"
   ]
  },
  {
   "cell_type": "code",
   "execution_count": 6,
   "metadata": {},
   "outputs": [
    {
     "name": "stdout",
     "output_type": "stream",
     "text": [
      "(2075, 122) (3509, 122)\n"
     ]
    }
   ],
   "source": [
    "# print(df.shape, df2.shape)"
   ]
  },
  {
   "cell_type": "code",
   "execution_count": 5,
   "metadata": {},
   "outputs": [],
   "source": [
    "df_joined = pd.concat([df, df2])"
   ]
  },
  {
   "cell_type": "code",
   "execution_count": 6,
   "metadata": {},
   "outputs": [
    {
     "data": {
      "text/plain": [
       "(5584, 122)"
      ]
     },
     "execution_count": 6,
     "metadata": {},
     "output_type": "execute_result"
    }
   ],
   "source": [
    "df_joined.shape"
   ]
  },
  {
   "cell_type": "code",
   "execution_count": 8,
   "metadata": {},
   "outputs": [],
   "source": [
    "# for c in df_joined_cats.columns:\n",
    "    # print(c)"
   ]
  },
  {
   "cell_type": "code",
   "execution_count": 7,
   "metadata": {},
   "outputs": [],
   "source": [
    "cat_cols = [idx for idx, val in df_joined.dtypes.items() if val == 'object']"
   ]
  },
  {
   "cell_type": "code",
   "execution_count": 8,
   "metadata": {},
   "outputs": [
    {
     "name": "stdout",
     "output_type": "stream",
     "text": [
      "['Código', 'Município', 'escola1', 'Escola_resp_Quest', 'Contrato', 'Outro_qual', 'Porquê_A', 'Quantotempo', 'Porquê_B']\n"
     ]
    }
   ],
   "source": [
    "print(cat_cols)"
   ]
  },
  {
   "cell_type": "code",
   "execution_count": 9,
   "metadata": {},
   "outputs": [
    {
     "data": {
      "text/html": [
       "<div>\n",
       "<style scoped>\n",
       "    .dataframe tbody tr th:only-of-type {\n",
       "        vertical-align: middle;\n",
       "    }\n",
       "\n",
       "    .dataframe tbody tr th {\n",
       "        vertical-align: top;\n",
       "    }\n",
       "\n",
       "    .dataframe thead th {\n",
       "        text-align: right;\n",
       "    }\n",
       "</style>\n",
       "<table border=\"1\" class=\"dataframe\">\n",
       "  <thead>\n",
       "    <tr style=\"text-align: right;\">\n",
       "      <th></th>\n",
       "      <th>Código</th>\n",
       "      <th>Município</th>\n",
       "      <th>escola1</th>\n",
       "      <th>Escola_resp_Quest</th>\n",
       "      <th>Contrato</th>\n",
       "      <th>Outro_qual</th>\n",
       "      <th>Porquê_A</th>\n",
       "      <th>Quantotempo</th>\n",
       "      <th>Porquê_B</th>\n",
       "    </tr>\n",
       "  </thead>\n",
       "  <tbody>\n",
       "    <tr>\n",
       "      <th>count</th>\n",
       "      <td>3970</td>\n",
       "      <td>3970</td>\n",
       "      <td>3963</td>\n",
       "      <td>3941</td>\n",
       "      <td>3910</td>\n",
       "      <td>109</td>\n",
       "      <td>127</td>\n",
       "      <td>727</td>\n",
       "      <td>724</td>\n",
       "    </tr>\n",
       "    <tr>\n",
       "      <th>unique</th>\n",
       "      <td>2887</td>\n",
       "      <td>16</td>\n",
       "      <td>294</td>\n",
       "      <td>287</td>\n",
       "      <td>11</td>\n",
       "      <td>61</td>\n",
       "      <td>119</td>\n",
       "      <td>115</td>\n",
       "      <td>575</td>\n",
       "    </tr>\n",
       "    <tr>\n",
       "      <th>top</th>\n",
       "      <td>GUCA084</td>\n",
       "      <td>Passo Fundo</td>\n",
       "      <td>Instituto Menino Deus</td>\n",
       "      <td>Instituto Menino Deus</td>\n",
       "      <td>1</td>\n",
       "      <td>Temporário</td>\n",
       "      <td>PNEUMONIA</td>\n",
       "      <td>15</td>\n",
       "      <td>Cirurgia.</td>\n",
       "    </tr>\n",
       "    <tr>\n",
       "      <th>freq</th>\n",
       "      <td>14</td>\n",
       "      <td>1188</td>\n",
       "      <td>118</td>\n",
       "      <td>117</td>\n",
       "      <td>1759</td>\n",
       "      <td>16</td>\n",
       "      <td>2</td>\n",
       "      <td>50</td>\n",
       "      <td>15</td>\n",
       "    </tr>\n",
       "  </tbody>\n",
       "</table>\n",
       "</div>"
      ],
      "text/plain": [
       "         Código    Município                escola1      Escola_resp_Quest  \\\n",
       "count      3970         3970                   3963                   3941   \n",
       "unique     2887           16                    294                    287   \n",
       "top     GUCA084  Passo Fundo  Instituto Menino Deus  Instituto Menino Deus   \n",
       "freq         14         1188                    118                    117   \n",
       "\n",
       "       Contrato  Outro_qual   Porquê_A Quantotempo   Porquê_B  \n",
       "count      3910         109        127         727        724  \n",
       "unique       11          61        119         115        575  \n",
       "top           1  Temporário  PNEUMONIA          15  Cirurgia.  \n",
       "freq       1759          16          2          50         15  "
      ]
     },
     "execution_count": 9,
     "metadata": {},
     "output_type": "execute_result"
    }
   ],
   "source": [
    "df_joined[cat_cols].describe()"
   ]
  },
  {
   "cell_type": "code",
   "execution_count": 58,
   "metadata": {},
   "outputs": [],
   "source": [
    "# Porquê_A = \"Filho\"\n",
    "# df_joined[df_joined['Porquê_A'].str.contains(\"Filh\", case=False) == True]['Porquê_A']"
   ]
  },
  {
   "cell_type": "code",
   "execution_count": 10,
   "metadata": {},
   "outputs": [],
   "source": [
    "df_joined.loc[df_joined['Porquê_A'].str.contains(\"Filh\", case=False) == True, 'Porquê_A'] = \"Filho\"\n",
    "df_joined.loc[df_joined['Porquê_A'].str.contains(\"Coluna\", case=False) == True, 'Porquê_A'] = \"Coluna\"\n",
    "df_joined.loc[df_joined['Porquê_A'].str.contains(\"Acompanha\", case=False) == True, 'Porquê_A'] = \"Acompanhamento\"\n",
    "df_joined.loc[df_joined['Porquê_A'].str.contains(\"Cirurgia\", case=False) == True, 'Porquê_A'] = \"Cirurgia\"\n",
    "df_joined.loc[df_joined['Porquê_A'].str.contains(\"Conjuntivite\", case=False) == True, 'Porquê_A'] = \"Conjuntivite\"\n",
    "df_joined.loc[df_joined['Porquê_A'].str.contains(\"Consulta\", case=False) == True, 'Porquê_A'] = \"Consulta\""
   ]
  },
  {
   "cell_type": "code",
   "execution_count": 11,
   "metadata": {},
   "outputs": [],
   "source": [
    "df_joined.loc[df_joined['Porquê_B'].str.contains(\"Aborto\", case=False) == True, 'Porquê_B'] = \"Aborto\"\n",
    "df_joined.loc[df_joined['Porquê_B'].str.contains(\"Acompanha\", case=False) == True, 'Porquê_B'] = \"Acompanhamento\"\n",
    "df_joined.loc[df_joined['Porquê_B'].str.contains(\"Caxumba\", case=False) == True, 'Porquê_B'] = \"Caxumba\"\n",
    "df_joined.loc[df_joined['Porquê_B'].str.contains(\"Cirurgia\", case=False) == True, 'Porquê_B'] = \"Cirurgia\"\n",
    "df_joined.loc[df_joined['Porquê_B'].str.contains(\"Coluna\", case=False) == True, 'Porquê_B'] = \"Coluna\"\n",
    "df_joined.loc[df_joined['Porquê_B'].str.contains(\"Depressão\", case=False) == True, 'Porquê_B'] = \"Depressão\"\n",
    "df_joined.loc[df_joined['Porquê_B'].str.contains(\"stress\", case=False) == True, 'Porquê_B'] = \"Estresse\"\n",
    "df_joined.loc[df_joined['Porquê_B'].str.contains(\"Filh\", case=False) == True, 'Porquê_B'] = \"Filho\"\n",
    "df_joined.loc[df_joined['Porquê_B'].str.contains(\"Fratur\", case=False) == True, 'Porquê_B'] = \"Fratura\"\n",
    "df_joined.loc[df_joined['Porquê_B'].str.contains(\"Gripe\", case=False) == True, 'Porquê_B'] = \"Gripe\"\n",
    "df_joined.loc[df_joined['Porquê_B'].str.contains(\"Infecção\", case=False) == True, 'Porquê_B'] = \"Infecção\"\n",
    "df_joined.loc[df_joined['Porquê_B'].str.contains(\"Labirintite\", case=False) == True, 'Porquê_B'] = \"Labirintite\"\n",
    "df_joined.loc[df_joined['Porquê_B'].str.contains(\"Lesão\", case=False) == True, 'Porquê_B'] = \"Lesão\"\n",
    "df_joined.loc[df_joined['Porquê_B'].str.contains(\"Licença\", case=False) == True, 'Porquê_B'] = \"Licença\"\n",
    "df_joined.loc[df_joined['Porquê_B'].str.contains(\"Virose\", case=False) == True, 'Porquê_B'] = \"Virose\""
   ]
  },
  {
   "cell_type": "code",
   "execution_count": 12,
   "metadata": {},
   "outputs": [
    {
     "data": {
      "text/plain": [
       "count       127\n",
       "unique       83\n",
       "top       Filho\n",
       "freq         16\n",
       "Name: Porquê_A, dtype: object"
      ]
     },
     "execution_count": 12,
     "metadata": {},
     "output_type": "execute_result"
    }
   ],
   "source": [
    "df_joined['Porquê_A'].describe()"
   ]
  },
  {
   "cell_type": "code",
   "execution_count": 13,
   "metadata": {},
   "outputs": [
    {
     "data": {
      "text/plain": [
       "count          724\n",
       "unique         299\n",
       "top       Cirurgia\n",
       "freq           145\n",
       "Name: Porquê_B, dtype: object"
      ]
     },
     "execution_count": 13,
     "metadata": {},
     "output_type": "execute_result"
    }
   ],
   "source": [
    "df_joined['Porquê_B'].describe()"
   ]
  },
  {
   "cell_type": "code",
   "execution_count": 14,
   "metadata": {},
   "outputs": [],
   "source": [
    "df_joined_cats = df_joined.copy()\n",
    "df_joined_cats[cat_cols] = df_joined[cat_cols].astype('category')"
   ]
  },
  {
   "cell_type": "code",
   "execution_count": 15,
   "metadata": {},
   "outputs": [],
   "source": [
    "for cat_col in cat_cols:\n",
    "    df_joined_cats[cat_col] = df_joined_cats[cat_col].cat.codes"
   ]
  },
  {
   "cell_type": "code",
   "execution_count": 16,
   "metadata": {},
   "outputs": [],
   "source": [
    "df_joined_cats[cat_cols] = df_joined_cats[cat_cols].replace(-1, np.nan)"
   ]
  },
  {
   "cell_type": "code",
   "execution_count": 17,
   "metadata": {},
   "outputs": [],
   "source": [
    "# 148 - 95 = 53 colunas com algum valor em branco\n",
    "# df_joined.dropna(axis=0, how='all').shape\n",
    "df_joined_cats = df_joined_cats.dropna(axis=0, how='all')"
   ]
  },
  {
   "cell_type": "code",
   "execution_count": 18,
   "metadata": {},
   "outputs": [
    {
     "data": {
      "text/plain": [
       "(3970, 122)"
      ]
     },
     "execution_count": 18,
     "metadata": {},
     "output_type": "execute_result"
    }
   ],
   "source": [
    "df_joined_cats.shape"
   ]
  },
  {
   "cell_type": "code",
   "execution_count": 19,
   "metadata": {},
   "outputs": [
    {
     "data": {
      "text/plain": [
       "<Figure size 640x640 with 0 Axes>"
      ]
     },
     "execution_count": 19,
     "metadata": {},
     "output_type": "execute_result"
    },
    {
     "data": {
      "text/plain": [
       "<Figure size 640x640 with 0 Axes>"
      ]
     },
     "metadata": {},
     "output_type": "display_data"
    }
   ],
   "source": [
    "# df_joined_cats\n",
    "# df_joined_cats.isnull().sum().sort_values()\n",
    "from matplotlib.pyplot import figure\n",
    "figure(num=None, figsize=(8, 8), dpi=80, facecolor='w', edgecolor='k')\n",
    "# sns.heatmap(df_joined_cats.isnull(), cbar=False)\n",
    "# for c in df_joined_cats.columns:\n",
    "    # print(c, df_joined_cats[c].isnull().sum())"
   ]
  },
  {
   "cell_type": "code",
   "execution_count": 20,
   "metadata": {},
   "outputs": [
    {
     "data": {
      "text/plain": [
       "Index(['Município', 'escola1', 'Numero_escolas_trabalha', 'Escola_resp_Quest',\n",
       "       'Tipo_escola', 'Niveis_escola', 'Idade', 'Sexo', 'Formação',\n",
       "       'Área_Ed_Inf', 'Área_EF_finais', 'Área_EF_iniciais', 'Área_Ens_Médio',\n",
       "       'Área_Ens_Téc', 'Contrato', 'Outro_qual', 'Tempo_Escola',\n",
       "       'Tempo_profissão', 'Hrs_semanais', 'Numero_professores', 'Supervisiona',\n",
       "       'Licença_2semanas', 'Porquê_A', 'Licença_ano', 'Quantotempo',\n",
       "       'Porquê_B', 'MPS', 'IPPS', 'IOPS', 'ISP', 'CAFC', 'VSP', 'ARE', 'DED',\n",
       "       'ARS', 'AED', 'Engagement', 'Exaustao', 'Cinismo', 'SCV', 'Saude'],\n",
       "      dtype='object')"
      ]
     },
     "execution_count": 20,
     "metadata": {},
     "output_type": "execute_result"
    }
   ],
   "source": [
    "# Dez/2019: classificação\n",
    "# print(df_joined_cats.Exaustao.describe(), df_joined_cats.Cinismo.describe(), df_joined_cats.SCV.describe())\n",
    "trab_cols = ['trab'+str(i) for i in range(1, 33)]\n",
    "atitrab_cols = ['atitrab'+str(i) for i in range(1, 21)]\n",
    "be_cols = ['be'+str(i) for i in range(1, 20)]\n",
    "bes_cols = ['bes'+str(i) for i in range(1, 6)]\n",
    "saude_cols = ['saude'+str(i) for i in range(1, 5)]\n",
    "\n",
    "df_features = df_joined_cats.drop(columns=trab_cols+atitrab_cols+be_cols+bes_cols+saude_cols+['Código'])\n",
    "df_features.columns"
   ]
  },
  {
   "cell_type": "code",
   "execution_count": 21,
   "metadata": {},
   "outputs": [
    {
     "data": {
      "text/plain": [
       "Series([], dtype: float64)"
      ]
     },
     "execution_count": 21,
     "metadata": {},
     "output_type": "execute_result"
    }
   ],
   "source": [
    "# df_features.describe() # .isnull().sum().sort_values()\n",
    "\n",
    "# print(df_features['escola1'])\n",
    "\n",
    "df_features_pre_processed = df_features.copy()\n",
    "\n",
    "integer_cols = ['Município', 'escola1', 'Numero_escolas_trabalha', 'Escola_resp_Quest', \n",
    "                'Tipo_escola', 'Niveis_escola', 'Idade', 'Sexo', 'Formação',\n",
    "               'Área_Ed_Inf', 'Área_EF_finais', 'Área_EF_iniciais', 'Área_Ens_Médio',\n",
    "               'Área_Ens_Téc', 'Contrato', 'Outro_qual', 'Numero_professores', 'Supervisiona',\n",
    "               'Licença_2semanas', 'Porquê_A', 'Licença_ano', 'Quantotempo', 'Porquê_B',]\n",
    "float_cols = ['Tempo_Escola', 'Tempo_profissão', 'Hrs_semanais', 'MPS', 'IPPS', 'IOPS', 'ISP', 'CAFC', 'VSP', 'ARE', 'DED',\n",
    "       'ARS', 'AED', 'Engagement', 'Exaustao', 'Cinismo', 'SCV', 'Saude']\n",
    "\n",
    "# IGNORED\n",
    "_IGNORED = -1\n",
    "ignored_cols = ['escola1', 'Escola_resp_Quest', 'Outro_qual', 'Porquê_A', 'Porquê_B', 'Quantotempo']\n",
    "for i in ignored_cols:\n",
    "    df_features_pre_processed[i] = df_features_pre_processed[i].fillna(_IGNORED)\n",
    "\n",
    "# MODE\n",
    "mode_cols = ['Numero_escolas_trabalha', 'Tipo_escola', 'Niveis_escola', 'Sexo', \n",
    "             'Niveis_escola', 'Formação', 'Área_Ed_Inf', 'Área_EF_finais', \n",
    "             'Área_EF_iniciais', 'Área_Ens_Médio', 'Área_Ens_Téc', 'Contrato',\n",
    "            'Hrs_semanais', 'Supervisiona', 'Licença_2semanas', 'Licença_ano']\n",
    "for m in mode_cols:\n",
    "    df_features_pre_processed[m] = df_features_pre_processed[m].fillna(df_features_pre_processed[m].mode().values[0])\n",
    "\n",
    "# MEAN\n",
    "mean_cols = ['Idade', 'Tempo_Escola', 'Tempo_profissão', 'Numero_professores', 'IOPS', 'CAFC', 'VSP', 'Saude']\n",
    "for m in mean_cols:\n",
    "    df_features_pre_processed[m] = df_features_pre_processed[m].fillna(df_features_pre_processed[m].mean())\n",
    "\n",
    "df_features_pre_processed[df_features_pre_processed.columns[df_features_pre_processed.isna().any()]].isnull().sum()\n",
    "\n",
    "# Primeiro a imputação de dados, depois a conversão:\n",
    "# df_features[integer_cols] = df_features[integer_cols].astype('int')\n",
    "\n",
    "# for c in df_features.columns:\n",
    "    # print(c, df_features[c].isnull().sum(), sep=\": \")"
   ]
  },
  {
   "cell_type": "code",
   "execution_count": 33,
   "metadata": {},
   "outputs": [],
   "source": [
    "# -1 para os categóricos\n",
    "# df_joined_cats[cat_cols] = df_joined_cats[cat_cols].replace(np.nan, -1)"
   ]
  },
  {
   "cell_type": "code",
   "execution_count": 158,
   "metadata": {},
   "outputs": [],
   "source": [
    "# Média para os demais\n",
    "# df_joined_cats.isnull().sum().items()\n",
    "# cols_null = [idx for (idx, val) in df_joined_cats.isnull().sum().items() if val > 0 ]\n",
    "# for c in cols_null:\n",
    "    # df_joined_cats[c] = df_joined_cats[c].replace(np.nan, df_joined_cats[c].mean())"
   ]
  },
  {
   "cell_type": "markdown",
   "metadata": {},
   "source": [
    "# 1. Definir valores NA \"#NULO!\" (ok)\n",
    "# 2. Unificar colunas e linhas (ok)\n",
    "# 3. Converter valores numéricos com vírgula para ponto (ok)\n",
    "# 4. Transformar valores descritivos em categóricos com códigos (ok)\n",
    "# 7. Transformar colunas descritivas em categoria (radicais de palavras, centralizar problemas) (ok, manual)\n",
    "# 5. Dropar colunas/linhas com NA que não irão auxiliar (ok)\n",
    "# 6. Preencher valores NA de colunas mantidas (ok)\n",
    "# 8. Implementar predição e medir qualidade (ok)"
   ]
  },
  {
   "cell_type": "markdown",
   "metadata": {},
   "source": [
    "# 1. Determinar a classificação dos indivíduos \n",
    "## 1.1. Com Exaustao e Cinismo abaixo da média e Engagement acima da média\n",
    "## 1.2. Com Exaustão ou Cinismo altos (abaixo da média)\n",
    "## 1.3. Com qualquer um dos escores altos\n",
    "# 2. Aplicar diferentes métodos de classificação\n",
    "# 3. Aferir a qualidade e realizar comparações\n",
    "# 4. Plotar gráficos de resultados"
   ]
  },
  {
   "cell_type": "code",
   "execution_count": 22,
   "metadata": {},
   "outputs": [],
   "source": [
    "_EXA_COL = 'Exaustao'\n",
    "_CIN_COL = 'Cinismo'\n",
    "_ENG_COL = 'Engagement'\n",
    "\n",
    "_MEAN_E = df_features_pre_processed[_EXA_COL].mean()\n",
    "_MEAN_C = df_features_pre_processed[_CIN_COL].mean()\n",
    "_MEAN_G = df_features_pre_processed[_ENG_COL].mean()\n",
    "\n",
    "\n",
    "# Gereric rules\n",
    "def add_rule(who, rules):\n",
    "    \n",
    "    global df_features_pre_processed\n",
    "    \n",
    "    if who in df_features_pre_processed.columns:\n",
    "        df_features_pre_processed.drop(columns=[who], inplace=True)\n",
    "\n",
    "    where = len(df_features_pre_processed.columns)\n",
    "    what = df_features_pre_processed.apply(rules, axis=1)\n",
    "    \n",
    "    df_features_pre_processed.insert(where, who, what)\n",
    "\n",
    "\n",
    "# 1.1\n",
    "\n",
    "burnout_classification_rules = lambda x: x[_EXA_COL] < _MEAN_E and x[_CIN_COL] < _MEAN_C and x[_ENG_COL] > _MEAN_G\n",
    "\n",
    "add_rule('Burnout', burnout_classification_rules)\n",
    "\n",
    "\n",
    "# 1.2\n",
    "\n",
    "burnout_classification_rules = lambda x: x[_EXA_COL] < _MEAN_E or x[_CIN_COL] < _MEAN_C\n",
    "\n",
    "add_rule('Burnout_EC', burnout_classification_rules)\n",
    "\n",
    "\n",
    "# 1.3\n",
    "\n",
    "burnout_classification_rules = lambda x: x[_EXA_COL] < _MEAN_E or x[_CIN_COL] < _MEAN_C or x[_ENG_COL] > _MEAN_G\n",
    "\n",
    "add_rule('Burnout_ANY', burnout_classification_rules)\n"
   ]
  },
  {
   "cell_type": "code",
   "execution_count": 31,
   "metadata": {},
   "outputs": [
    {
     "data": {
      "image/png": "[encoded data removed]",
      "text/plain": [
       "<Figure size 1080x288 with 3 Axes>"
      ]
     },
     "metadata": {
      "needs_background": "light"
     },
     "output_type": "display_data"
    }
   ],
   "source": [
    "\n",
    "rule1 = df_features_pre_processed.Burnout.value_counts().sort_index()\n",
    "rule2 = df_features_pre_processed.Burnout_EC.value_counts().sort_index()\n",
    "rule3 = df_features_pre_processed.Burnout_ANY.value_counts().sort_index()\n",
    "\n",
    "fig, axes = plt.subplots(nrows=1, ncols=3, figsize=(15, 4))\n",
    "\n",
    "axes[0].bar(['Normal', 'Burnout'], rule1)\n",
    "axes[0].set_title('E + C + G')\n",
    "axes[1].bar(['Normal', 'Burnout'], rule2)\n",
    "axes[1].set_title('E ou C')\n",
    "axes[2].bar(['Normal', 'Burnout'], rule3)\n",
    "axes[2].set_title('Qualquer quantificador (E, C ou G)')\n",
    "plt.show()"
   ]
  },
  {
   "cell_type": "code",
   "execution_count": 28,
   "metadata": {},
   "outputs": [
    {
     "name": "stderr",
     "output_type": "stream",
     "text": [
      "c:\\users\\ralph.rassweiler\\appdata\\local\\programs\\python\\python37\\lib\\site-packages\\sklearn\\svm\\base.py:193: FutureWarning: The default value of gamma will change from 'auto' to 'scale' in version 0.22 to account better for unscaled features. Set gamma explicitly to 'auto' or 'scale' to avoid this warning.\n",
      "  \"avoid this warning.\", FutureWarning)\n"
     ]
    },
    {
     "name": "stdout",
     "output_type": "stream",
     "text": [
      "Accuracy SVM 0.67\n",
      "Average precision-recall score SVM: 0.36\n",
      "Accuracy DTree 0.62\n",
      "Accuracy RandomForest 0.69\n"
     ]
    },
    {
     "name": "stderr",
     "output_type": "stream",
     "text": [
      "c:\\users\\ralph.rassweiler\\appdata\\local\\programs\\python\\python37\\lib\\site-packages\\sklearn\\ensemble\\forest.py:245: FutureWarning: The default value of n_estimators will change from 10 in version 0.20 to 100 in 0.22.\n",
      "  \"10 in version 0.20 to 100 in 0.22.\", FutureWarning)\n"
     ]
    }
   ],
   "source": [
    "# Dez/2019: classificação\n",
    "from sklearn.model_selection import train_test_split\n",
    "from sklearn.metrics import accuracy_score\n",
    "from sklearn.metrics import average_precision_score\n",
    "\n",
    "from sklearn.svm import SVC\n",
    "from sklearn.ensemble import RandomForestClassifier, AdaBoostClassifier\n",
    "from sklearn.neighbors import KNeighborsClassifier\n",
    "from sklearn.tree import DecisionTreeClassifier\n",
    "\n",
    "df_feat_no_class = df_features_pre_processed.drop(columns=['Burnout_EC', 'Burnout_ANY', 'Burnout', _EXA_COL, _CIN_COL, _ENG_COL])\n",
    "\n",
    "# print(df_feat_no_class)\n",
    "\n",
    "X_train, X_test, y_train, y_test = train_test_split(df_feat_no_class, \n",
    "                                                    df_features_pre_processed.Burnout, test_size=0.2)\n",
    "\n",
    "clf = SVC()\n",
    "clf.fit(X_train, y_train)\n",
    "\n",
    "preds = clf.predict(X_test)\n",
    "y_score = clf.decision_function(X_test)\n",
    "average_precision = average_precision_score(y_test, y_score)\n",
    "\n",
    "print('Accuracy SVM {0:0.2f}'.format(accuracy_score(y_test, preds)))\n",
    "print('Average precision-recall score SVM: {0:0.2f}'.format(average_precision))\n",
    "\n",
    "\n",
    "# DT\n",
    "dtc = DecisionTreeClassifier()\n",
    "dtc.fit(X_train, y_train)\n",
    "\n",
    "preds = dtc.predict(X_test)\n",
    "\n",
    "print('Accuracy DTree {0:0.2f}'.format(accuracy_score(y_test, preds)))\n",
    "\n",
    "rfc = RandomForestClassifier()\n",
    "rfc.fit(X_train, y_train)\n",
    "\n",
    "preds = rfc.predict(X_test)\n",
    "\n",
    "print('Accuracy RandomForest {0:0.2f}'.format(accuracy_score(y_test.values, preds)))"
   ]
  },
  {
   "cell_type": "code",
   "execution_count": 223,
   "metadata": {},
   "outputs": [
    {
     "data": {
      "text/html": [
       "<div>\n",
       "<style scoped>\n",
       "    .dataframe tbody tr th:only-of-type {\n",
       "        vertical-align: middle;\n",
       "    }\n",
       "\n",
       "    .dataframe tbody tr th {\n",
       "        vertical-align: top;\n",
       "    }\n",
       "\n",
       "    .dataframe thead th {\n",
       "        text-align: right;\n",
       "    }\n",
       "</style>\n",
       "<table border=\"1\" class=\"dataframe\">\n",
       "  <thead>\n",
       "    <tr style=\"text-align: right;\">\n",
       "      <th></th>\n",
       "      <th>feature</th>\n",
       "      <th>importance</th>\n",
       "    </tr>\n",
       "  </thead>\n",
       "  <tbody>\n",
       "    <tr>\n",
       "      <th>36</th>\n",
       "      <td>SCV</td>\n",
       "      <td>0.079093</td>\n",
       "    </tr>\n",
       "    <tr>\n",
       "      <th>37</th>\n",
       "      <td>Saude</td>\n",
       "      <td>0.064842</td>\n",
       "    </tr>\n",
       "    <tr>\n",
       "      <th>35</th>\n",
       "      <td>AED</td>\n",
       "      <td>0.055820</td>\n",
       "    </tr>\n",
       "    <tr>\n",
       "      <th>6</th>\n",
       "      <td>Idade</td>\n",
       "      <td>0.050866</td>\n",
       "    </tr>\n",
       "    <tr>\n",
       "      <th>19</th>\n",
       "      <td>Numero_professores</td>\n",
       "      <td>0.046980</td>\n",
       "    </tr>\n",
       "    <tr>\n",
       "      <th>3</th>\n",
       "      <td>Escola_resp_Quest</td>\n",
       "      <td>0.045980</td>\n",
       "    </tr>\n",
       "    <tr>\n",
       "      <th>34</th>\n",
       "      <td>ARS</td>\n",
       "      <td>0.044603</td>\n",
       "    </tr>\n",
       "    <tr>\n",
       "      <th>17</th>\n",
       "      <td>Tempo_profissão</td>\n",
       "      <td>0.044596</td>\n",
       "    </tr>\n",
       "    <tr>\n",
       "      <th>33</th>\n",
       "      <td>DED</td>\n",
       "      <td>0.044584</td>\n",
       "    </tr>\n",
       "    <tr>\n",
       "      <th>1</th>\n",
       "      <td>escola1</td>\n",
       "      <td>0.043641</td>\n",
       "    </tr>\n",
       "    <tr>\n",
       "      <th>16</th>\n",
       "      <td>Tempo_Escola</td>\n",
       "      <td>0.043477</td>\n",
       "    </tr>\n",
       "    <tr>\n",
       "      <th>31</th>\n",
       "      <td>VSP</td>\n",
       "      <td>0.041066</td>\n",
       "    </tr>\n",
       "    <tr>\n",
       "      <th>28</th>\n",
       "      <td>IOPS</td>\n",
       "      <td>0.038599</td>\n",
       "    </tr>\n",
       "    <tr>\n",
       "      <th>32</th>\n",
       "      <td>ARE</td>\n",
       "      <td>0.036900</td>\n",
       "    </tr>\n",
       "    <tr>\n",
       "      <th>26</th>\n",
       "      <td>MPS</td>\n",
       "      <td>0.035977</td>\n",
       "    </tr>\n",
       "    <tr>\n",
       "      <th>29</th>\n",
       "      <td>ISP</td>\n",
       "      <td>0.035011</td>\n",
       "    </tr>\n",
       "    <tr>\n",
       "      <th>27</th>\n",
       "      <td>IPPS</td>\n",
       "      <td>0.031108</td>\n",
       "    </tr>\n",
       "    <tr>\n",
       "      <th>0</th>\n",
       "      <td>Município</td>\n",
       "      <td>0.028876</td>\n",
       "    </tr>\n",
       "    <tr>\n",
       "      <th>18</th>\n",
       "      <td>Hrs_semanais</td>\n",
       "      <td>0.023816</td>\n",
       "    </tr>\n",
       "    <tr>\n",
       "      <th>30</th>\n",
       "      <td>CAFC</td>\n",
       "      <td>0.022082</td>\n",
       "    </tr>\n",
       "    <tr>\n",
       "      <th>8</th>\n",
       "      <td>Formação</td>\n",
       "      <td>0.019185</td>\n",
       "    </tr>\n",
       "    <tr>\n",
       "      <th>14</th>\n",
       "      <td>Contrato</td>\n",
       "      <td>0.017192</td>\n",
       "    </tr>\n",
       "    <tr>\n",
       "      <th>5</th>\n",
       "      <td>Niveis_escola</td>\n",
       "      <td>0.014031</td>\n",
       "    </tr>\n",
       "    <tr>\n",
       "      <th>24</th>\n",
       "      <td>Quantotempo</td>\n",
       "      <td>0.013199</td>\n",
       "    </tr>\n",
       "    <tr>\n",
       "      <th>25</th>\n",
       "      <td>Porquê_B</td>\n",
       "      <td>0.009557</td>\n",
       "    </tr>\n",
       "    <tr>\n",
       "      <th>2</th>\n",
       "      <td>Numero_escolas_trabalha</td>\n",
       "      <td>0.008292</td>\n",
       "    </tr>\n",
       "    <tr>\n",
       "      <th>11</th>\n",
       "      <td>Área_EF_iniciais</td>\n",
       "      <td>0.008089</td>\n",
       "    </tr>\n",
       "    <tr>\n",
       "      <th>20</th>\n",
       "      <td>Supervisiona</td>\n",
       "      <td>0.008052</td>\n",
       "    </tr>\n",
       "    <tr>\n",
       "      <th>9</th>\n",
       "      <td>Área_Ed_Inf</td>\n",
       "      <td>0.007423</td>\n",
       "    </tr>\n",
       "    <tr>\n",
       "      <th>23</th>\n",
       "      <td>Licença_ano</td>\n",
       "      <td>0.007210</td>\n",
       "    </tr>\n",
       "    <tr>\n",
       "      <th>4</th>\n",
       "      <td>Tipo_escola</td>\n",
       "      <td>0.007154</td>\n",
       "    </tr>\n",
       "    <tr>\n",
       "      <th>10</th>\n",
       "      <td>Área_EF_finais</td>\n",
       "      <td>0.006660</td>\n",
       "    </tr>\n",
       "    <tr>\n",
       "      <th>12</th>\n",
       "      <td>Área_Ens_Médio</td>\n",
       "      <td>0.005190</td>\n",
       "    </tr>\n",
       "    <tr>\n",
       "      <th>7</th>\n",
       "      <td>Sexo</td>\n",
       "      <td>0.003429</td>\n",
       "    </tr>\n",
       "    <tr>\n",
       "      <th>15</th>\n",
       "      <td>Outro_qual</td>\n",
       "      <td>0.003126</td>\n",
       "    </tr>\n",
       "    <tr>\n",
       "      <th>22</th>\n",
       "      <td>Porquê_A</td>\n",
       "      <td>0.002593</td>\n",
       "    </tr>\n",
       "    <tr>\n",
       "      <th>21</th>\n",
       "      <td>Licença_2semanas</td>\n",
       "      <td>0.001464</td>\n",
       "    </tr>\n",
       "    <tr>\n",
       "      <th>13</th>\n",
       "      <td>Área_Ens_Téc</td>\n",
       "      <td>0.000240</td>\n",
       "    </tr>\n",
       "  </tbody>\n",
       "</table>\n",
       "</div>"
      ],
      "text/plain": [
       "                    feature  importance\n",
       "36                      SCV    0.079093\n",
       "37                    Saude    0.064842\n",
       "35                      AED    0.055820\n",
       "6                     Idade    0.050866\n",
       "19       Numero_professores    0.046980\n",
       "3         Escola_resp_Quest    0.045980\n",
       "34                      ARS    0.044603\n",
       "17          Tempo_profissão    0.044596\n",
       "33                      DED    0.044584\n",
       "1                   escola1    0.043641\n",
       "16             Tempo_Escola    0.043477\n",
       "31                      VSP    0.041066\n",
       "28                     IOPS    0.038599\n",
       "32                      ARE    0.036900\n",
       "26                      MPS    0.035977\n",
       "29                      ISP    0.035011\n",
       "27                     IPPS    0.031108\n",
       "0                 Município    0.028876\n",
       "18             Hrs_semanais    0.023816\n",
       "30                     CAFC    0.022082\n",
       "8                  Formação    0.019185\n",
       "14                 Contrato    0.017192\n",
       "5             Niveis_escola    0.014031\n",
       "24              Quantotempo    0.013199\n",
       "25                 Porquê_B    0.009557\n",
       "2   Numero_escolas_trabalha    0.008292\n",
       "11         Área_EF_iniciais    0.008089\n",
       "20             Supervisiona    0.008052\n",
       "9               Área_Ed_Inf    0.007423\n",
       "23              Licença_ano    0.007210\n",
       "4               Tipo_escola    0.007154\n",
       "10           Área_EF_finais    0.006660\n",
       "12           Área_Ens_Médio    0.005190\n",
       "7                      Sexo    0.003429\n",
       "15               Outro_qual    0.003126\n",
       "22                 Porquê_A    0.002593\n",
       "21         Licença_2semanas    0.001464\n",
       "13             Área_Ens_Téc    0.000240"
      ]
     },
     "execution_count": 223,
     "metadata": {},
     "output_type": "execute_result"
    }
   ],
   "source": [
    "# Extract feature importances\n",
    "fi = pd.DataFrame({'feature': list(df_feat_no_class.columns),\n",
    "                   'importance': rfc.feature_importances_}).\\\n",
    "                    sort_values('importance', ascending = False)\n",
    "\n",
    "# Display\n",
    "fi.iloc[:]"
   ]
  },
  {
   "cell_type": "code",
   "execution_count": 201,
   "metadata": {},
   "outputs": [
    {
     "name": "stdout",
     "output_type": "stream",
     "text": [
      "count    3968.000000\n",
      "mean       36.140578\n",
      "std        25.953674\n",
      "min         1.000000\n",
      "25%        17.000000\n",
      "50%        30.000000\n",
      "75%        47.118845\n",
      "max       187.000000\n",
      "Name: Numero_professores, dtype: float64\n"
     ]
    },
    {
     "data": {
      "image/png": "[encoded data removed]",
      "text/plain": [
       "<Figure size 432x288 with 1 Axes>"
      ]
     },
     "metadata": {},
     "output_type": "display_data"
    }
   ],
   "source": [
    "# df_features_pre_processed.sort_values(by=[\"Numero_professores\"]).Numero_professores.head(10)\n",
    "# df_features_pre_processed.drop([784], inplace=True)\n",
    "# df_features_pre_processed.loc[784].Numero_professores\n",
    "print(df_features_pre_processed[\"Numero_professores\"].describe())\n",
    "plt.boxplot(df_features_pre_processed.Numero_professores)\n",
    "plt.show()"
   ]
  },
  {
   "cell_type": "code",
   "execution_count": 221,
   "metadata": {},
   "outputs": [
    {
     "data": {
      "text/html": [
       "<div>\n",
       "<style scoped>\n",
       "    .dataframe tbody tr th:only-of-type {\n",
       "        vertical-align: middle;\n",
       "    }\n",
       "\n",
       "    .dataframe tbody tr th {\n",
       "        vertical-align: top;\n",
       "    }\n",
       "\n",
       "    .dataframe thead th {\n",
       "        text-align: right;\n",
       "    }\n",
       "</style>\n",
       "<table border=\"1\" class=\"dataframe\">\n",
       "  <thead>\n",
       "    <tr style=\"text-align: right;\">\n",
       "      <th></th>\n",
       "      <th>Município</th>\n",
       "      <th>escola1</th>\n",
       "      <th>Numero_escolas_trabalha</th>\n",
       "      <th>Escola_resp_Quest</th>\n",
       "      <th>Tipo_escola</th>\n",
       "      <th>Niveis_escola</th>\n",
       "      <th>Idade</th>\n",
       "      <th>Sexo</th>\n",
       "      <th>Formação</th>\n",
       "      <th>Área_Ed_Inf</th>\n",
       "      <th>...</th>\n",
       "      <th>AED</th>\n",
       "      <th>Engagement</th>\n",
       "      <th>Exaustao</th>\n",
       "      <th>Cinismo</th>\n",
       "      <th>SCV</th>\n",
       "      <th>Saude</th>\n",
       "      <th>Burnout_EC</th>\n",
       "      <th>IdadeCat</th>\n",
       "      <th>Burnout_ANY</th>\n",
       "      <th>NrProfCat</th>\n",
       "    </tr>\n",
       "    <tr>\n",
       "      <th>Burnout</th>\n",
       "      <th></th>\n",
       "      <th></th>\n",
       "      <th></th>\n",
       "      <th></th>\n",
       "      <th></th>\n",
       "      <th></th>\n",
       "      <th></th>\n",
       "      <th></th>\n",
       "      <th></th>\n",
       "      <th></th>\n",
       "      <th></th>\n",
       "      <th></th>\n",
       "      <th></th>\n",
       "      <th></th>\n",
       "      <th></th>\n",
       "      <th></th>\n",
       "      <th></th>\n",
       "      <th></th>\n",
       "      <th></th>\n",
       "      <th></th>\n",
       "      <th></th>\n",
       "    </tr>\n",
       "  </thead>\n",
       "  <tbody>\n",
       "    <tr>\n",
       "      <th>False</th>\n",
       "      <td>394</td>\n",
       "      <td>394</td>\n",
       "      <td>394</td>\n",
       "      <td>394</td>\n",
       "      <td>394</td>\n",
       "      <td>394</td>\n",
       "      <td>394</td>\n",
       "      <td>394</td>\n",
       "      <td>394</td>\n",
       "      <td>394</td>\n",
       "      <td>...</td>\n",
       "      <td>394</td>\n",
       "      <td>394</td>\n",
       "      <td>394</td>\n",
       "      <td>394</td>\n",
       "      <td>394</td>\n",
       "      <td>394</td>\n",
       "      <td>394</td>\n",
       "      <td>394</td>\n",
       "      <td>394</td>\n",
       "      <td>394</td>\n",
       "    </tr>\n",
       "    <tr>\n",
       "      <th>True</th>\n",
       "      <td>252</td>\n",
       "      <td>252</td>\n",
       "      <td>252</td>\n",
       "      <td>252</td>\n",
       "      <td>252</td>\n",
       "      <td>252</td>\n",
       "      <td>252</td>\n",
       "      <td>252</td>\n",
       "      <td>252</td>\n",
       "      <td>252</td>\n",
       "      <td>...</td>\n",
       "      <td>252</td>\n",
       "      <td>252</td>\n",
       "      <td>252</td>\n",
       "      <td>252</td>\n",
       "      <td>252</td>\n",
       "      <td>252</td>\n",
       "      <td>252</td>\n",
       "      <td>252</td>\n",
       "      <td>252</td>\n",
       "      <td>252</td>\n",
       "    </tr>\n",
       "  </tbody>\n",
       "</table>\n",
       "<p>2 rows × 45 columns</p>\n",
       "</div>"
      ],
      "text/plain": [
       "         Município  escola1  Numero_escolas_trabalha  Escola_resp_Quest  \\\n",
       "Burnout                                                                   \n",
       "False          394      394                      394                394   \n",
       "True           252      252                      252                252   \n",
       "\n",
       "         Tipo_escola  Niveis_escola  Idade  Sexo  Formação  Área_Ed_Inf  ...  \\\n",
       "Burnout                                                                  ...   \n",
       "False            394            394    394   394       394          394  ...   \n",
       "True             252            252    252   252       252          252  ...   \n",
       "\n",
       "         AED  Engagement  Exaustao  Cinismo  SCV  Saude  Burnout_EC  IdadeCat  \\\n",
       "Burnout                                                                         \n",
       "False    394         394       394      394  394    394         394       394   \n",
       "True     252         252       252      252  252    252         252       252   \n",
       "\n",
       "         Burnout_ANY  NrProfCat  \n",
       "Burnout                          \n",
       "False            394        394  \n",
       "True             252        252  \n",
       "\n",
       "[2 rows x 45 columns]"
      ]
     },
     "execution_count": 221,
     "metadata": {},
     "output_type": "execute_result"
    }
   ],
   "source": [
    "# df_features_pre_processed[\"Idade\"]\n",
    "df_features_pre_processed[(df_features_pre_processed[\"Idade\"] > 50.) & (df_features_pre_processed[\"Idade\"] < 84.)].groupby(by=[\"Burnout\"]).count()"
   ]
  },
  {
   "cell_type": "code",
   "execution_count": 202,
   "metadata": {},
   "outputs": [
    {
     "data": {
      "image/png": "[encoded data removed]",
      "text/plain": [
       "<Figure size 864x504 with 1 Axes>"
      ]
     },
     "metadata": {},
     "output_type": "display_data"
    }
   ],
   "source": [
    "# Executar isso apenas uma vez:\n",
    "# aaa = pd.cut(df_features_pre_processed.Idade, [0, 24, 34, 44, 54, 64, 100], labels=[\"até 24\", \"24 a 34\", \"34 a 44\", \"44 a 54\", \"54 a 64\", \"Mais que 64\"])\n",
    "# df_features_pre_processed.insert(len(df_features_pre_processed.columns), \"IdadeCat\", aaa)\n",
    "# bbb = pd.cut(df_features_pre_processed.Numero_professores, [0, 36, 72, 108, 144, 200], labels=[\"até 36\", \"36 a 72\", \"72 a 108\", \"108 a 144\", \"Mais que 144\"])\n",
    "# df_features_pre_processed.insert(len(df_features_pre_processed.columns), \"NrProfCat\", bbb)\n",
    "\n",
    "figure(figsize=(12,7))\n",
    "\n",
    "dfg = df_features_pre_processed[df_features_pre_processed.Burnout==1][[\"IdadeCat\", \"Burnout\"]].groupby(by=[\"IdadeCat\"]).count()\n",
    "dfg2 = df_features_pre_processed[df_features_pre_processed.Burnout==0][[\"IdadeCat\", \"Burnout\"]].groupby(by=[\"IdadeCat\"]).count()\n",
    "\n",
    "_x_axis = list(dfg.index)\n",
    "\n",
    "plt.plot(_x_axis, dfg.values, 'r--', _x_axis, dfg2.values, 'b--')\n",
    "plt.show()"
   ]
  },
  {
   "cell_type": "code",
   "execution_count": 151,
   "metadata": {},
   "outputs": [
    {
     "data": {
      "image/png": "[encoded data removed]",
      "text/plain": [
       "<Figure size 864x720 with 1 Axes>"
      ]
     },
     "metadata": {},
     "output_type": "display_data"
    }
   ],
   "source": [
    "figure(figsize=(12,10))\n",
    "\n",
    "ind = np.arange(len(_x_axis))\n",
    "width = 0.35\n",
    "\n",
    "p1 = plt.bar(ind, dfg.values.ravel())\n",
    "p2 = plt.bar(ind, dfg2.values.ravel(), bottom=dfg.values.ravel())\n",
    "\n",
    "plt.ylabel('Total')\n",
    "plt.title('Burnout por Idade')\n",
    "plt.xticks(ind, tuple(_x_axis))\n",
    "plt.yticks()\n",
    "plt.legend((p1[0], p2[0]), ('Normal', 'Burnout'))\n",
    "\n",
    "plt.show()"
   ]
  },
  {
   "cell_type": "code",
   "execution_count": 203,
   "metadata": {},
   "outputs": [
    {
     "data": {
      "image/png": "[encoded data removed]",
      "text/plain": [
       "<Figure size 864x720 with 1 Axes>"
      ]
     },
     "metadata": {},
     "output_type": "display_data"
    }
   ],
   "source": [
    "figure(figsize=(12,10))\n",
    "\n",
    "dfg = df_features_pre_processed[df_features_pre_processed.Burnout==1][[\"NrProfCat\", \"Burnout\"]].groupby(by=[\"NrProfCat\"]).count()\n",
    "dfg2 = df_features_pre_processed[df_features_pre_processed.Burnout==0][[\"NrProfCat\", \"Burnout\"]].groupby(by=[\"NrProfCat\"]).count()\n",
    "\n",
    "_x_axis = list(dfg.index)\n",
    "\n",
    "ind = np.arange(len(_x_axis))\n",
    "width = 0.35\n",
    "\n",
    "p1 = plt.bar(ind, dfg.values.ravel())\n",
    "p2 = plt.bar(ind, dfg2.values.ravel(), bottom=dfg.values.ravel())\n",
    "\n",
    "plt.ylabel('Total')\n",
    "plt.title('Burnout por Nr Prof')\n",
    "plt.xticks(ind, tuple(_x_axis))\n",
    "plt.yticks()\n",
    "plt.legend((p1[0], p2[0]), ('Normal', 'Burnout'))\n",
    "\n",
    "plt.show()"
   ]
  },
  {
   "cell_type": "code",
   "execution_count": 166,
   "metadata": {},
   "outputs": [
    {
     "data": {
      "image/png": "[encoded data removed]",
      "text/plain": [
       "<Figure size 720x864 with 1 Axes>"
      ]
     },
     "metadata": {},
     "output_type": "display_data"
    }
   ],
   "source": [
    "fig_dims = (10, 12)\n",
    "fig, ax = plt.subplots(figsize=fig_dims)\n",
    "\n",
    "sns.set(style=\"ticks\", palette=\"pastel\")\n",
    "\n",
    "# Draw a nested boxplot to show bills by day and time\n",
    "sns.boxplot(x=\"IdadeCat\", y=\"Idade\",\n",
    "            hue=\"Burnout\", palette=[\"m\", \"g\"],\n",
    "            data=df_features_pre_processed)\n",
    "sns.despine(offset=10, trim=True)"
   ]
  },
  {
   "cell_type": "code",
   "execution_count": 204,
   "metadata": {},
   "outputs": [
    {
     "data": {
      "image/png": "[encoded data removed]",
      "text/plain": [
       "<Figure size 720x864 with 1 Axes>"
      ]
     },
     "metadata": {},
     "output_type": "display_data"
    }
   ],
   "source": [
    "fig_dims = (10, 12)\n",
    "fig, ax = plt.subplots(figsize=fig_dims)\n",
    "\n",
    "sns.set(style=\"ticks\", palette=\"pastel\")\n",
    "\n",
    "# Draw a nested boxplot to show bills by day and time\n",
    "sns.boxplot(x=\"NrProfCat\", y=\"Numero_professores\",\n",
    "            hue=\"Burnout\", palette=[\"m\", \"g\"],\n",
    "            data=df_features_pre_processed)\n",
    "sns.despine(offset=10, trim=True)"
   ]
  },
  {
   "cell_type": "code",
   "execution_count": null,
   "metadata": {},
   "outputs": [],
   "source": [
    "p1 = plt.bar(ind, menMeans, width, yerr=menStd)\n",
    "p2 = plt.bar(ind, womenMeans, width,\n",
    "             bottom=menMeans, yerr=womenStd)\n",
    "\n",
    "plt.ylabel('Scores')\n",
    "plt.title('Scores by group and gender')\n",
    "plt.xticks(ind, ('G1', 'G2', 'G3', 'G4', 'G5'))\n",
    "plt.yticks(np.arange(0, 81, 10))\n",
    "plt.legend((p1[0], p2[0]), ('Men', 'Women'))\n",
    "\n",
    "plt.show()"
   ]
  },
  {
   "cell_type": "code",
   "execution_count": 34,
   "metadata": {},
   "outputs": [
    {
     "data": {
      "text/plain": [
       "array([[486,  51],\n",
       "       [196,  61]], dtype=int64)"
      ]
     },
     "execution_count": 34,
     "metadata": {},
     "output_type": "execute_result"
    }
   ],
   "source": [
    "from sklearn.metrics import confusion_matrix\n",
    "\n",
    "confusion_matrix(y_test.values, preds)"
   ]
  },
  {
   "cell_type": "code",
   "execution_count": 39,
   "metadata": {},
   "outputs": [
    {
     "data": {
      "text/plain": [
       "<matplotlib.axes._subplots.AxesSubplot at 0x29f8b412708>"
      ]
     },
     "execution_count": 39,
     "metadata": {},
     "output_type": "execute_result"
    },
    {
     "data": {
      "image/png": "[encoded data removed]",
      "text/plain": [
       "<Figure size 432x288 with 2 Axes>"
      ]
     },
     "metadata": {
      "needs_background": "light"
     },
     "output_type": "display_data"
    }
   ],
   "source": [
    "# Dez/2019: classificação\n",
    "\n",
    "x = df_joined_cats.iloc[0]\n",
    "# x.Exaustao * x.Cinismo * x.SCV\n",
    "corr = df_joined_cats[['Exaustao', 'Cinismo', 'SCV'] + ['Engagement', 'Saude', 'MPS', 'IPPS', 'IOPS', 'ISP', 'CAFC', 'VSP', 'ARE', 'DED', 'ARS', 'AED']].corr()\n",
    "# print(corr)\n",
    "sns.heatmap(corr, center=0,\n",
    "            square=True, linewidths=.5, cbar_kws={\"shrink\": .5})\n",
    "\n",
    "# O melhor método para fazer a predição de Burnout dentre as hipóteses levantadas parece ser a combinação de Engagement, Cinismo e Exaustao porque gera uma população de cerca de 35% com Burnout.\n",
    "# SCV, Saude e AED são os três preditores mais fortes de Burnout. Em seguida temos Idade e Numero de Professores na Escola.\n",
    "# Há uma correlação alta entre os três preditores fortes e Engagement.\n",
    "# Random Forest prediz Burnout com uma acurácia média de 71%."
   ]
  }
 ],
 "metadata": {
  "kernelspec": {
   "display_name": "Python 3",
   "language": "python",
   "name": "python3"
  },
  "language_info": {
   "codemirror_mode": {
    "name": "ipython",
    "version": 3
   },
   "file_extension": ".py",
   "mimetype": "text/x-python",
   "name": "python",
   "nbconvert_exporter": "python",
   "pygments_lexer": "ipython3",
   "version": "3.7.5"
  }
 },
 "nbformat": 4,
 "nbformat_minor": 2
}
