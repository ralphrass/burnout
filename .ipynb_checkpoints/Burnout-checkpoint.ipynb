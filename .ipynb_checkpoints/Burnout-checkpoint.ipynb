{
 "cells": [
  {
   "cell_type": "markdown",
   "metadata": {},
   "source": [
    "Conclusão: Não há consenso na determinação de burnout porque os valores variam conforme a população analisada e o contexto em que ela está inserida. Além disso, como não há mapeamento de burnout como doença nas listagens médicas tradicionais (como o CID-10), há receio da comunidade científica em determinar um diagnóstico. \n",
    "\n",
    "Proposta: Sendo assim, proponho fazer experimentos para realizar a predição de burnout como classificação utlizando as faixas de resultados das dimensões cinismo, exaustão e eficácia em três variações: (conforme https://www.tandfonline.com/doi/full/10.1080/2331205X.2016.1237605):\n",
    "Combinação de exaustão (E) e cinismo (C) altas com eficácia no trabalho (T) baixa.\n",
    "(E) alta e/ou (C) alta.\n",
    "Escore alto em qualquer uma das três dimensões.\n",
    "Para determinar um escore alto posso utilizar como critério:\n",
    "Estar acima da média do escore.\n",
    "Estar com 1 desvio padrão acima da média do escore (se a distribuição dos escores for gaussiana).\n",
    "Estar acima do terceiro quartil do intervalo do escore.\n",
    "Desta forma, o nosso trabalho poderá ser usado para responder às perguntas:\n",
    "\n",
    "É possível realizar a predição de burnout como um problema de classificação (no contexto da pesquisa do Prof Carlos)? Qual das combinações gera o melhor resultado?\n",
    "\n",
    "Além disso, como complemento, podemos responder também às perguntas:\n",
    "\n",
    "Há correlação entre as três dimensões que caracterizam burnout?\n",
    "Quais são os sumarizadores (MPS, IPPS, IOPS, etc.) que mais contribuem para fazer a predição de burnout?\n",
    "Quais outros fatores são comuns para indivíduos classificados com burnout positivo (escola, faixa etária, gênero, etc.)?\n"
   ]
  },
  {
   "cell_type": "code",
   "execution_count": 1,
   "metadata": {},
   "outputs": [],
   "source": [
    "import pandas as pd\n",
    "import numpy as np\n",
    "import seaborn as sns\n",
    "import matplotlib.pyplot as plt"
   ]
  },
  {
   "cell_type": "code",
   "execution_count": 2,
   "metadata": {},
   "outputs": [],
   "source": [
    "na_vals = ['#NULO!']"
   ]
  },
  {
   "cell_type": "code",
   "execution_count": 3,
   "metadata": {},
   "outputs": [],
   "source": [
    "df = pd.read_csv('Base 5_T1_VV.csv', sep=';', na_values=na_vals, decimal=\",\")\n",
    "df2 = pd.read_csv('Base 5_T2_VV_Sem_2.csv', sep=';', na_values=na_vals, decimal=\",\")"
   ]
  },
  {
   "cell_type": "code",
   "execution_count": 4,
   "metadata": {},
   "outputs": [
    {
     "data": {
      "text/plain": [
       "set()"
      ]
     },
     "execution_count": 4,
     "metadata": {},
     "output_type": "execute_result"
    }
   ],
   "source": [
    "set(df.columns) - set(df2.columns)"
   ]
  },
  {
   "cell_type": "code",
   "execution_count": 6,
   "metadata": {},
   "outputs": [
    {
     "name": "stdout",
     "output_type": "stream",
     "text": [
      "(2075, 122) (3509, 122)\n"
     ]
    }
   ],
   "source": [
    "# print(df.shape, df2.shape)"
   ]
  },
  {
   "cell_type": "code",
   "execution_count": 5,
   "metadata": {},
   "outputs": [],
   "source": [
    "df_joined = pd.concat([df, df2])"
   ]
  },
  {
   "cell_type": "code",
   "execution_count": 6,
   "metadata": {},
   "outputs": [
    {
     "data": {
      "text/plain": [
       "(5584, 122)"
      ]
     },
     "execution_count": 6,
     "metadata": {},
     "output_type": "execute_result"
    }
   ],
   "source": [
    "df_joined.shape"
   ]
  },
  {
   "cell_type": "code",
   "execution_count": 8,
   "metadata": {},
   "outputs": [],
   "source": [
    "# for c in df_joined_cats.columns:\n",
    "    # print(c)"
   ]
  },
  {
   "cell_type": "code",
   "execution_count": 7,
   "metadata": {},
   "outputs": [],
   "source": [
    "cat_cols = [idx for idx, val in df_joined.dtypes.items() if val == 'object']"
   ]
  },
  {
   "cell_type": "code",
   "execution_count": 8,
   "metadata": {},
   "outputs": [
    {
     "name": "stdout",
     "output_type": "stream",
     "text": [
      "['Código', 'Município', 'escola1', 'Escola_resp_Quest', 'Contrato', 'Outro_qual', 'Porquê_A', 'Quantotempo', 'Porquê_B']\n"
     ]
    }
   ],
   "source": [
    "print(cat_cols)"
   ]
  },
  {
   "cell_type": "code",
   "execution_count": 9,
   "metadata": {},
   "outputs": [
    {
     "data": {
      "text/html": [
       "<div>\n",
       "<style scoped>\n",
       "    .dataframe tbody tr th:only-of-type {\n",
       "        vertical-align: middle;\n",
       "    }\n",
       "\n",
       "    .dataframe tbody tr th {\n",
       "        vertical-align: top;\n",
       "    }\n",
       "\n",
       "    .dataframe thead th {\n",
       "        text-align: right;\n",
       "    }\n",
       "</style>\n",
       "<table border=\"1\" class=\"dataframe\">\n",
       "  <thead>\n",
       "    <tr style=\"text-align: right;\">\n",
       "      <th></th>\n",
       "      <th>Código</th>\n",
       "      <th>Município</th>\n",
       "      <th>escola1</th>\n",
       "      <th>Escola_resp_Quest</th>\n",
       "      <th>Contrato</th>\n",
       "      <th>Outro_qual</th>\n",
       "      <th>Porquê_A</th>\n",
       "      <th>Quantotempo</th>\n",
       "      <th>Porquê_B</th>\n",
       "    </tr>\n",
       "  </thead>\n",
       "  <tbody>\n",
       "    <tr>\n",
       "      <th>count</th>\n",
       "      <td>3970</td>\n",
       "      <td>3970</td>\n",
       "      <td>3963</td>\n",
       "      <td>3941</td>\n",
       "      <td>3910</td>\n",
       "      <td>109</td>\n",
       "      <td>127</td>\n",
       "      <td>727</td>\n",
       "      <td>724</td>\n",
       "    </tr>\n",
       "    <tr>\n",
       "      <th>unique</th>\n",
       "      <td>2887</td>\n",
       "      <td>16</td>\n",
       "      <td>294</td>\n",
       "      <td>287</td>\n",
       "      <td>11</td>\n",
       "      <td>61</td>\n",
       "      <td>119</td>\n",
       "      <td>115</td>\n",
       "      <td>575</td>\n",
       "    </tr>\n",
       "    <tr>\n",
       "      <th>top</th>\n",
       "      <td>GUCA084</td>\n",
       "      <td>Passo Fundo</td>\n",
       "      <td>Instituto Menino Deus</td>\n",
       "      <td>Instituto Menino Deus</td>\n",
       "      <td>1</td>\n",
       "      <td>Temporário</td>\n",
       "      <td>PNEUMONIA</td>\n",
       "      <td>15</td>\n",
       "      <td>Cirurgia.</td>\n",
       "    </tr>\n",
       "    <tr>\n",
       "      <th>freq</th>\n",
       "      <td>14</td>\n",
       "      <td>1188</td>\n",
       "      <td>118</td>\n",
       "      <td>117</td>\n",
       "      <td>1759</td>\n",
       "      <td>16</td>\n",
       "      <td>2</td>\n",
       "      <td>50</td>\n",
       "      <td>15</td>\n",
       "    </tr>\n",
       "  </tbody>\n",
       "</table>\n",
       "</div>"
      ],
      "text/plain": [
       "         Código    Município                escola1      Escola_resp_Quest  \\\n",
       "count      3970         3970                   3963                   3941   \n",
       "unique     2887           16                    294                    287   \n",
       "top     GUCA084  Passo Fundo  Instituto Menino Deus  Instituto Menino Deus   \n",
       "freq         14         1188                    118                    117   \n",
       "\n",
       "       Contrato  Outro_qual   Porquê_A Quantotempo   Porquê_B  \n",
       "count      3910         109        127         727        724  \n",
       "unique       11          61        119         115        575  \n",
       "top           1  Temporário  PNEUMONIA          15  Cirurgia.  \n",
       "freq       1759          16          2          50         15  "
      ]
     },
     "execution_count": 9,
     "metadata": {},
     "output_type": "execute_result"
    }
   ],
   "source": [
    "df_joined[cat_cols].describe()"
   ]
  },
  {
   "cell_type": "code",
   "execution_count": 58,
   "metadata": {},
   "outputs": [],
   "source": [
    "# Porquê_A = \"Filho\"\n",
    "# df_joined[df_joined['Porquê_A'].str.contains(\"Filh\", case=False) == True]['Porquê_A']"
   ]
  },
  {
   "cell_type": "code",
   "execution_count": 10,
   "metadata": {},
   "outputs": [],
   "source": [
    "df_joined.loc[df_joined['Porquê_A'].str.contains(\"Filh\", case=False) == True, 'Porquê_A'] = \"Filho\"\n",
    "df_joined.loc[df_joined['Porquê_A'].str.contains(\"Coluna\", case=False) == True, 'Porquê_A'] = \"Coluna\"\n",
    "df_joined.loc[df_joined['Porquê_A'].str.contains(\"Acompanha\", case=False) == True, 'Porquê_A'] = \"Acompanhamento\"\n",
    "df_joined.loc[df_joined['Porquê_A'].str.contains(\"Cirurgia\", case=False) == True, 'Porquê_A'] = \"Cirurgia\"\n",
    "df_joined.loc[df_joined['Porquê_A'].str.contains(\"Conjuntivite\", case=False) == True, 'Porquê_A'] = \"Conjuntivite\"\n",
    "df_joined.loc[df_joined['Porquê_A'].str.contains(\"Consulta\", case=False) == True, 'Porquê_A'] = \"Consulta\""
   ]
  },
  {
   "cell_type": "code",
   "execution_count": 11,
   "metadata": {},
   "outputs": [],
   "source": [
    "df_joined.loc[df_joined['Porquê_B'].str.contains(\"Aborto\", case=False) == True, 'Porquê_B'] = \"Aborto\"\n",
    "df_joined.loc[df_joined['Porquê_B'].str.contains(\"Acompanha\", case=False) == True, 'Porquê_B'] = \"Acompanhamento\"\n",
    "df_joined.loc[df_joined['Porquê_B'].str.contains(\"Caxumba\", case=False) == True, 'Porquê_B'] = \"Caxumba\"\n",
    "df_joined.loc[df_joined['Porquê_B'].str.contains(\"Cirurgia\", case=False) == True, 'Porquê_B'] = \"Cirurgia\"\n",
    "df_joined.loc[df_joined['Porquê_B'].str.contains(\"Coluna\", case=False) == True, 'Porquê_B'] = \"Coluna\"\n",
    "df_joined.loc[df_joined['Porquê_B'].str.contains(\"Depressão\", case=False) == True, 'Porquê_B'] = \"Depressão\"\n",
    "df_joined.loc[df_joined['Porquê_B'].str.contains(\"stress\", case=False) == True, 'Porquê_B'] = \"Estresse\"\n",
    "df_joined.loc[df_joined['Porquê_B'].str.contains(\"Filh\", case=False) == True, 'Porquê_B'] = \"Filho\"\n",
    "df_joined.loc[df_joined['Porquê_B'].str.contains(\"Fratur\", case=False) == True, 'Porquê_B'] = \"Fratura\"\n",
    "df_joined.loc[df_joined['Porquê_B'].str.contains(\"Gripe\", case=False) == True, 'Porquê_B'] = \"Gripe\"\n",
    "df_joined.loc[df_joined['Porquê_B'].str.contains(\"Infecção\", case=False) == True, 'Porquê_B'] = \"Infecção\"\n",
    "df_joined.loc[df_joined['Porquê_B'].str.contains(\"Labirintite\", case=False) == True, 'Porquê_B'] = \"Labirintite\"\n",
    "df_joined.loc[df_joined['Porquê_B'].str.contains(\"Lesão\", case=False) == True, 'Porquê_B'] = \"Lesão\"\n",
    "df_joined.loc[df_joined['Porquê_B'].str.contains(\"Licença\", case=False) == True, 'Porquê_B'] = \"Licença\"\n",
    "df_joined.loc[df_joined['Porquê_B'].str.contains(\"Virose\", case=False) == True, 'Porquê_B'] = \"Virose\""
   ]
  },
  {
   "cell_type": "code",
   "execution_count": 12,
   "metadata": {},
   "outputs": [
    {
     "data": {
      "text/plain": [
       "count       127\n",
       "unique       83\n",
       "top       Filho\n",
       "freq         16\n",
       "Name: Porquê_A, dtype: object"
      ]
     },
     "execution_count": 12,
     "metadata": {},
     "output_type": "execute_result"
    }
   ],
   "source": [
    "df_joined['Porquê_A'].describe()"
   ]
  },
  {
   "cell_type": "code",
   "execution_count": 13,
   "metadata": {},
   "outputs": [
    {
     "data": {
      "text/plain": [
       "count          724\n",
       "unique         299\n",
       "top       Cirurgia\n",
       "freq           145\n",
       "Name: Porquê_B, dtype: object"
      ]
     },
     "execution_count": 13,
     "metadata": {},
     "output_type": "execute_result"
    }
   ],
   "source": [
    "df_joined['Porquê_B'].describe()"
   ]
  },
  {
   "cell_type": "code",
   "execution_count": 14,
   "metadata": {},
   "outputs": [],
   "source": [
    "df_joined_cats = df_joined.copy()\n",
    "df_joined_cats[cat_cols] = df_joined[cat_cols].astype('category')"
   ]
  },
  {
   "cell_type": "code",
   "execution_count": 15,
   "metadata": {},
   "outputs": [],
   "source": [
    "for cat_col in cat_cols:\n",
    "    df_joined_cats[cat_col] = df_joined_cats[cat_col].cat.codes"
   ]
  },
  {
   "cell_type": "code",
   "execution_count": 16,
   "metadata": {},
   "outputs": [],
   "source": [
    "df_joined_cats[cat_cols] = df_joined_cats[cat_cols].replace(-1, np.nan)"
   ]
  },
  {
   "cell_type": "code",
   "execution_count": 17,
   "metadata": {},
   "outputs": [],
   "source": [
    "# 148 - 95 = 53 colunas com algum valor em branco\n",
    "# df_joined.dropna(axis=0, how='all').shape\n",
    "df_joined_cats = df_joined_cats.dropna(axis=0, how='all')"
   ]
  },
  {
   "cell_type": "code",
   "execution_count": 18,
   "metadata": {},
   "outputs": [
    {
     "data": {
      "text/plain": [
       "(3970, 122)"
      ]
     },
     "execution_count": 18,
     "metadata": {},
     "output_type": "execute_result"
    }
   ],
   "source": [
    "df_joined_cats.shape"
   ]
  },
  {
   "cell_type": "code",
   "execution_count": 19,
   "metadata": {},
   "outputs": [
    {
     "data": {
      "text/plain": [
       "<Figure size 640x640 with 0 Axes>"
      ]
     },
     "execution_count": 19,
     "metadata": {},
     "output_type": "execute_result"
    },
    {
     "data": {
      "text/plain": [
       "<Figure size 640x640 with 0 Axes>"
      ]
     },
     "metadata": {},
     "output_type": "display_data"
    }
   ],
   "source": [
    "# df_joined_cats\n",
    "# df_joined_cats.isnull().sum().sort_values()\n",
    "from matplotlib.pyplot import figure\n",
    "figure(num=None, figsize=(8, 8), dpi=80, facecolor='w', edgecolor='k')\n",
    "# sns.heatmap(df_joined_cats.isnull(), cbar=False)\n",
    "# for c in df_joined_cats.columns:\n",
    "    # print(c, df_joined_cats[c].isnull().sum())"
   ]
  },
  {
   "cell_type": "code",
   "execution_count": 20,
   "metadata": {},
   "outputs": [
    {
     "data": {
      "text/plain": [
       "Index(['Município', 'escola1', 'Numero_escolas_trabalha', 'Escola_resp_Quest',\n",
       "       'Tipo_escola', 'Niveis_escola', 'Idade', 'Sexo', 'Formação',\n",
       "       'Área_Ed_Inf', 'Área_EF_finais', 'Área_EF_iniciais', 'Área_Ens_Médio',\n",
       "       'Área_Ens_Téc', 'Contrato', 'Outro_qual', 'Tempo_Escola',\n",
       "       'Tempo_profissão', 'Hrs_semanais', 'Numero_professores', 'Supervisiona',\n",
       "       'Licença_2semanas', 'Porquê_A', 'Licença_ano', 'Quantotempo',\n",
       "       'Porquê_B', 'MPS', 'IPPS', 'IOPS', 'ISP', 'CAFC', 'VSP', 'ARE', 'DED',\n",
       "       'ARS', 'AED', 'Engagement', 'Exaustao', 'Cinismo', 'SCV', 'Saude'],\n",
       "      dtype='object')"
      ]
     },
     "execution_count": 20,
     "metadata": {},
     "output_type": "execute_result"
    }
   ],
   "source": [
    "# Dez/2019: classificação\n",
    "# print(df_joined_cats.Exaustao.describe(), df_joined_cats.Cinismo.describe(), df_joined_cats.SCV.describe())\n",
    "trab_cols = ['trab'+str(i) for i in range(1, 33)]\n",
    "atitrab_cols = ['atitrab'+str(i) for i in range(1, 21)]\n",
    "be_cols = ['be'+str(i) for i in range(1, 20)]\n",
    "bes_cols = ['bes'+str(i) for i in range(1, 6)]\n",
    "saude_cols = ['saude'+str(i) for i in range(1, 5)]\n",
    "\n",
    "df_features = df_joined_cats.drop(columns=trab_cols+atitrab_cols+be_cols+bes_cols+saude_cols+['Código'])\n",
    "df_features.columns"
   ]
  },
  {
   "cell_type": "code",
   "execution_count": 21,
   "metadata": {},
   "outputs": [
    {
     "data": {
      "text/plain": [
       "Series([], dtype: float64)"
      ]
     },
     "execution_count": 21,
     "metadata": {},
     "output_type": "execute_result"
    }
   ],
   "source": [
    "# df_features.describe() # .isnull().sum().sort_values()\n",
    "\n",
    "# print(df_features['escola1'])\n",
    "\n",
    "df_features_pre_processed = df_features.copy()\n",
    "\n",
    "integer_cols = ['Município', 'escola1', 'Numero_escolas_trabalha', 'Escola_resp_Quest', \n",
    "                'Tipo_escola', 'Niveis_escola', 'Idade', 'Sexo', 'Formação',\n",
    "               'Área_Ed_Inf', 'Área_EF_finais', 'Área_EF_iniciais', 'Área_Ens_Médio',\n",
    "               'Área_Ens_Téc', 'Contrato', 'Outro_qual', 'Numero_professores', 'Supervisiona',\n",
    "               'Licença_2semanas', 'Porquê_A', 'Licença_ano', 'Quantotempo', 'Porquê_B',]\n",
    "float_cols = ['Tempo_Escola', 'Tempo_profissão', 'Hrs_semanais', 'MPS', 'IPPS', 'IOPS', 'ISP', 'CAFC', 'VSP', 'ARE', 'DED',\n",
    "       'ARS', 'AED', 'Engagement', 'Exaustao', 'Cinismo', 'SCV', 'Saude']\n",
    "\n",
    "# IGNORED\n",
    "_IGNORED = -1\n",
    "ignored_cols = ['escola1', 'Escola_resp_Quest', 'Outro_qual', 'Porquê_A', 'Porquê_B', 'Quantotempo']\n",
    "for i in ignored_cols:\n",
    "    df_features_pre_processed[i] = df_features_pre_processed[i].fillna(_IGNORED)\n",
    "\n",
    "# MODE\n",
    "mode_cols = ['Numero_escolas_trabalha', 'Tipo_escola', 'Niveis_escola', 'Sexo', \n",
    "             'Niveis_escola', 'Formação', 'Área_Ed_Inf', 'Área_EF_finais', \n",
    "             'Área_EF_iniciais', 'Área_Ens_Médio', 'Área_Ens_Téc', 'Contrato',\n",
    "            'Hrs_semanais', 'Supervisiona', 'Licença_2semanas', 'Licença_ano']\n",
    "for m in mode_cols:\n",
    "    df_features_pre_processed[m] = df_features_pre_processed[m].fillna(df_features_pre_processed[m].mode().values[0])\n",
    "\n",
    "# MEAN\n",
    "mean_cols = ['Idade', 'Tempo_Escola', 'Tempo_profissão', 'Numero_professores', 'IOPS', 'CAFC', 'VSP', 'Saude']\n",
    "for m in mean_cols:\n",
    "    df_features_pre_processed[m] = df_features_pre_processed[m].fillna(df_features_pre_processed[m].mean())\n",
    "\n",
    "df_features_pre_processed[df_features_pre_processed.columns[df_features_pre_processed.isna().any()]].isnull().sum()\n",
    "\n",
    "# Primeiro a imputação de dados, depois a conversão:\n",
    "# df_features[integer_cols] = df_features[integer_cols].astype('int')\n",
    "\n",
    "# for c in df_features.columns:\n",
    "    # print(c, df_features[c].isnull().sum(), sep=\": \")"
   ]
  },
  {
   "cell_type": "code",
   "execution_count": 33,
   "metadata": {},
   "outputs": [],
   "source": [
    "# -1 para os categóricos\n",
    "# df_joined_cats[cat_cols] = df_joined_cats[cat_cols].replace(np.nan, -1)"
   ]
  },
  {
   "cell_type": "code",
   "execution_count": 158,
   "metadata": {},
   "outputs": [],
   "source": [
    "# Média para os demais\n",
    "# df_joined_cats.isnull().sum().items()\n",
    "# cols_null = [idx for (idx, val) in df_joined_cats.isnull().sum().items() if val > 0 ]\n",
    "# for c in cols_null:\n",
    "    # df_joined_cats[c] = df_joined_cats[c].replace(np.nan, df_joined_cats[c].mean())"
   ]
  },
  {
   "cell_type": "markdown",
   "metadata": {},
   "source": [
    "# 1. Definir valores NA \"#NULO!\" (ok)\n",
    "# 2. Unificar colunas e linhas (ok)\n",
    "# 3. Converter valores numéricos com vírgula para ponto (ok)\n",
    "# 4. Transformar valores descritivos em categóricos com códigos (ok)\n",
    "# 7. Transformar colunas descritivas em categoria (radicais de palavras, centralizar problemas) (ok, manual)\n",
    "# 5. Dropar colunas/linhas com NA que não irão auxiliar (ok)\n",
    "# 6. Preencher valores NA de colunas mantidas (ok)\n",
    "# 8. Implementar predição e medir qualidade (ok)"
   ]
  },
  {
   "cell_type": "markdown",
   "metadata": {},
   "source": [
    "# 1. Determinar a classificação dos indivíduos \n",
    "## 1.1. Com Exaustao e Cinismo abaixo da média e Engagement acima da média\n",
    "## 1.2. Com Exaustão ou Cinismo altos (abaixo da média)\n",
    "## 1.3. Com qualquer um dos escores altos\n",
    "# 2. Aplicar diferentes métodos de classificação\n",
    "# 3. Aferir a qualidade e realizar comparações\n",
    "# 4. Plotar gráficos de resultados"
   ]
  },
  {
   "cell_type": "code",
   "execution_count": 22,
   "metadata": {},
   "outputs": [],
   "source": [
    "_EXA_COL = 'Exaustao'\n",
    "_CIN_COL = 'Cinismo'\n",
    "_ENG_COL = 'Engagement'\n",
    "\n",
    "_MEAN_E = df_features_pre_processed[_EXA_COL].mean()\n",
    "_MEAN_C = df_features_pre_processed[_CIN_COL].mean()\n",
    "_MEAN_G = df_features_pre_processed[_ENG_COL].mean()\n",
    "\n",
    "\n",
    "# Gereric rules\n",
    "def add_rule(who, rules):\n",
    "    \n",
    "    global df_features_pre_processed\n",
    "    \n",
    "    if who in df_features_pre_processed.columns:\n",
    "        df_features_pre_processed.drop(columns=[who], inplace=True)\n",
    "\n",
    "    where = len(df_features_pre_processed.columns)\n",
    "    what = df_features_pre_processed.apply(rules, axis=1)\n",
    "    \n",
    "    df_features_pre_processed.insert(where, who, what)\n",
    "\n",
    "\n",
    "# 1.1\n",
    "\n",
    "burnout_classification_rules = lambda x: x[_EXA_COL] < _MEAN_E and x[_CIN_COL] < _MEAN_C and x[_ENG_COL] > _MEAN_G\n",
    "\n",
    "add_rule('Burnout', burnout_classification_rules)\n",
    "\n",
    "\n",
    "# 1.2\n",
    "\n",
    "burnout_classification_rules = lambda x: x[_EXA_COL] < _MEAN_E or x[_CIN_COL] < _MEAN_C\n",
    "\n",
    "add_rule('Burnout_EC', burnout_classification_rules)\n",
    "\n",
    "\n",
    "# 1.3\n",
    "\n",
    "burnout_classification_rules = lambda x: x[_EXA_COL] < _MEAN_E or x[_CIN_COL] < _MEAN_C or x[_ENG_COL] > _MEAN_G\n",
    "\n",
    "add_rule('Burnout_ANY', burnout_classification_rules)\n"
   ]
  },
  {
   "cell_type": "code",
   "execution_count": 31,
   "metadata": {},
   "outputs": [
    {
     "data": {
      "image/png": "[encoded data removed]",
      "text/plain": [
       "<Figure size 1080x288 with 3 Axes>"
      ]
     },
     "metadata": {
      "needs_background": "light"
     },
     "output_type": "display_data"
    }
   ],
   "source": [
    "\n",
    "rule1 = df_features_pre_processed.Burnout.value_counts().sort_index()\n",
    "rule2 = df_features_pre_processed.Burnout_EC.value_counts().sort_index()\n",
    "rule3 = df_features_pre_processed.Burnout_ANY.value_counts().sort_index()\n",
    "\n",
    "fig, axes = plt.subplots(nrows=1, ncols=3, figsize=(15, 4))\n",
    "\n",
    "axes[0].bar(['Normal', 'Burnout'], rule1)\n",
    "axes[0].set_title('E + C + G')\n",
    "axes[1].bar(['Normal', 'Burnout'], rule2)\n",
    "axes[1].set_title('E ou C')\n",
    "axes[2].bar(['Normal', 'Burnout'], rule3)\n",
    "axes[2].set_title('Qualquer quantificador (E, C ou G)')\n",
    "plt.show()"
   ]
  },
  {
   "cell_type": "code",
   "execution_count": 28,
   "metadata": {},
   "outputs": [
    {
     "name": "stderr",
     "output_type": "stream",
     "text": [
      "c:\\users\\ralph.rassweiler\\appdata\\local\\programs\\python\\python37\\lib\\site-packages\\sklearn\\svm\\base.py:193: FutureWarning: The default value of gamma will change from 'auto' to 'scale' in version 0.22 to account better for unscaled features. Set gamma explicitly to 'auto' or 'scale' to avoid this warning.\n",
      "  \"avoid this warning.\", FutureWarning)\n"
     ]
    },
    {
     "name": "stdout",
     "output_type": "stream",
     "text": [
      "Accuracy SVM 0.67\n",
      "Average precision-recall score SVM: 0.36\n",
      "Accuracy DTree 0.62\n",
      "Accuracy RandomForest 0.69\n"
     ]
    },
    {
     "name": "stderr",
     "output_type": "stream",
     "text": [
      "c:\\users\\ralph.rassweiler\\appdata\\local\\programs\\python\\python37\\lib\\site-packages\\sklearn\\ensemble\\forest.py:245: FutureWarning: The default value of n_estimators will change from 10 in version 0.20 to 100 in 0.22.\n",
      "  \"10 in version 0.20 to 100 in 0.22.\", FutureWarning)\n"
     ]
    }
   ],
   "source": [
    "# Dez/2019: classificação\n",
    "from sklearn.model_selection import train_test_split\n",
    "from sklearn.metrics import accuracy_score\n",
    "from sklearn.metrics import average_precision_score\n",
    "\n",
    "from sklearn.svm import SVC\n",
    "from sklearn.ensemble import RandomForestClassifier, AdaBoostClassifier\n",
    "from sklearn.neighbors import KNeighborsClassifier\n",
    "from sklearn.tree import DecisionTreeClassifier\n",
    "\n",
    "df_feat_no_class = df_features_pre_processed.drop(columns=['Burnout_EC', 'Burnout_ANY', 'Burnout', _EXA_COL, _CIN_COL, _ENG_COL])\n",
    "\n",
    "# print(df_feat_no_class)\n",
    "\n",
    "X_train, X_test, y_train, y_test = train_test_split(df_feat_no_class, \n",
    "                                                    df_features_pre_processed.Burnout, test_size=0.2)\n",
    "\n",
    "clf = SVC()\n",
    "clf.fit(X_train, y_train)\n",
    "\n",
    "preds = clf.predict(X_test)\n",
    "y_score = clf.decision_function(X_test)\n",
    "average_precision = average_precision_score(y_test, y_score)\n",
    "\n",
    "print('Accuracy SVM {0:0.2f}'.format(accuracy_score(y_test, preds)))\n",
    "print('Average precision-recall score SVM: {0:0.2f}'.format(average_precision))\n",
    "\n",
    "\n",
    "# DT\n",
    "dtc = DecisionTreeClassifier()\n",
    "dtc.fit(X_train, y_train)\n",
    "\n",
    "preds = dtc.predict(X_test)\n",
    "\n",
    "print('Accuracy DTree {0:0.2f}'.format(accuracy_score(y_test, preds)))\n",
    "\n",
    "rfc = RandomForestClassifier()\n",
    "rfc.fit(X_train, y_train)\n",
    "\n",
    "preds = rfc.predict(X_test)\n",
    "\n",
    "print('Accuracy RandomForest {0:0.2f}'.format(accuracy_score(y_test.values, preds)))"
   ]
  },
  {
   "cell_type": "code",
   "execution_count": null,
   "metadata": {},
   "outputs": [],
   "source": []
  },
  {
   "cell_type": "code",
   "execution_count": 30,
   "metadata": {},
   "outputs": [
    {
     "data": {
      "text/plain": [
       "<matplotlib.axes._subplots.AxesSubplot at 0x29f8b188c88>"
      ]
     },
     "execution_count": 30,
     "metadata": {},
     "output_type": "execute_result"
    },
    {
     "data": {
      "image/png": "[encoded data removed]",
      "text/plain": [
       "<Figure size 432x288 with 2 Axes>"
      ]
     },
     "metadata": {
      "needs_background": "light"
     },
     "output_type": "display_data"
    }
   ],
   "source": [
    "# Dez/2019: classificação\n",
    "\n",
    "x = df_joined_cats.iloc[0]\n",
    "# x.Exaustao * x.Cinismo * x.SCV\n",
    "corr = df_joined_cats[['Exaustao', 'Cinismo', 'SCV'] + ['Engagement', 'Saude', 'MPS', 'IPPS', 'IOPS', 'ISP', 'CAFC', 'VSP', 'ARE', 'DED', 'ARS', 'AED']].corr()\n",
    "# print(corr)\n",
    "sns.heatmap(corr, center=0,\n",
    "            square=True, linewidths=.5, cbar_kws={\"shrink\": .5})"
   ]
  }
 ],
 "metadata": {
  "kernelspec": {
   "display_name": "Python 3",
   "language": "python",
   "name": "python3"
  },
  "language_info": {
   "codemirror_mode": {
    "name": "ipython",
    "version": 3
   },
   "file_extension": ".py",
   "mimetype": "text/x-python",
   "name": "python",
   "nbconvert_exporter": "python",
   "pygments_lexer": "ipython3",
   "version": "3.7.5"
  }
 },
 "nbformat": 4,
 "nbformat_minor": 2
}
