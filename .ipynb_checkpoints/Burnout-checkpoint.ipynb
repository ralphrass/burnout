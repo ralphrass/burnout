{
 "cells": [
  {
   "cell_type": "code",
   "execution_count": 1,
   "metadata": {},
   "outputs": [],
   "source": [
    "import pandas as pd\n",
    "import numpy as np"
   ]
  },
  {
   "cell_type": "code",
   "execution_count": 2,
   "metadata": {},
   "outputs": [],
   "source": [
    "na_vals = ['#NULO!']"
   ]
  },
  {
   "cell_type": "code",
   "execution_count": 3,
   "metadata": {},
   "outputs": [],
   "source": [
    "df = pd.read_csv('Base 5_T1_VV.csv', sep=';', na_values=na_vals, decimal=\",\")\n",
    "df2 = pd.read_csv('Base 5_T2_VV_Sem_2.csv', sep=';', na_values=na_vals, decimal=\",\")"
   ]
  },
  {
   "cell_type": "code",
   "execution_count": 4,
   "metadata": {},
   "outputs": [
    {
     "data": {
      "text/plain": [
       "set()"
      ]
     },
     "execution_count": 4,
     "metadata": {},
     "output_type": "execute_result"
    }
   ],
   "source": [
    "set(df.columns) - set(df2.columns)"
   ]
  },
  {
   "cell_type": "code",
   "execution_count": null,
   "metadata": {},
   "outputs": [],
   "source": [
    "# df['Licença_2semanas'].describe()"
   ]
  },
  {
   "cell_type": "code",
   "execution_count": null,
   "metadata": {},
   "outputs": [],
   "source": [
    "# df2['Licençasemanas'].describe()"
   ]
  },
  {
   "cell_type": "code",
   "execution_count": null,
   "metadata": {},
   "outputs": [],
   "source": [
    "# df['Área_Ed_Inf'].describe()"
   ]
  },
  {
   "cell_type": "code",
   "execution_count": null,
   "metadata": {},
   "outputs": [],
   "source": [
    "# df2['Área_Ed_InfI'].describe()"
   ]
  },
  {
   "cell_type": "code",
   "execution_count": 6,
   "metadata": {},
   "outputs": [
    {
     "name": "stdout",
     "output_type": "stream",
     "text": [
      "(2075, 122) (3509, 122)\n"
     ]
    }
   ],
   "source": [
    "# print(df.shape, df2.shape)"
   ]
  },
  {
   "cell_type": "code",
   "execution_count": 5,
   "metadata": {},
   "outputs": [],
   "source": [
    "df_joined = pd.concat([df, df2])"
   ]
  },
  {
   "cell_type": "code",
   "execution_count": 6,
   "metadata": {},
   "outputs": [
    {
     "data": {
      "text/plain": [
       "(5584, 122)"
      ]
     },
     "execution_count": 6,
     "metadata": {},
     "output_type": "execute_result"
    }
   ],
   "source": [
    "df_joined.shape"
   ]
  },
  {
   "cell_type": "code",
   "execution_count": 7,
   "metadata": {},
   "outputs": [],
   "source": [
    "cat_cols = [idx for idx, val in df_joined.dtypes.items() if val == 'object']"
   ]
  },
  {
   "cell_type": "code",
   "execution_count": 8,
   "metadata": {},
   "outputs": [
    {
     "name": "stdout",
     "output_type": "stream",
     "text": [
      "['Código', 'Município', 'escola1', 'Escola_resp_Quest', 'Contrato', 'Outro_qual', 'Porquê_A', 'Quantotempo', 'Porquê_B']\n"
     ]
    }
   ],
   "source": [
    "print(cat_cols)"
   ]
  },
  {
   "cell_type": "code",
   "execution_count": 9,
   "metadata": {},
   "outputs": [
    {
     "data": {
      "text/html": [
       "<div>\n",
       "<style scoped>\n",
       "    .dataframe tbody tr th:only-of-type {\n",
       "        vertical-align: middle;\n",
       "    }\n",
       "\n",
       "    .dataframe tbody tr th {\n",
       "        vertical-align: top;\n",
       "    }\n",
       "\n",
       "    .dataframe thead th {\n",
       "        text-align: right;\n",
       "    }\n",
       "</style>\n",
       "<table border=\"1\" class=\"dataframe\">\n",
       "  <thead>\n",
       "    <tr style=\"text-align: right;\">\n",
       "      <th></th>\n",
       "      <th>Código</th>\n",
       "      <th>Município</th>\n",
       "      <th>escola1</th>\n",
       "      <th>Escola_resp_Quest</th>\n",
       "      <th>Contrato</th>\n",
       "      <th>Outro_qual</th>\n",
       "      <th>Porquê_A</th>\n",
       "      <th>Quantotempo</th>\n",
       "      <th>Porquê_B</th>\n",
       "    </tr>\n",
       "  </thead>\n",
       "  <tbody>\n",
       "    <tr>\n",
       "      <th>count</th>\n",
       "      <td>3970</td>\n",
       "      <td>3970</td>\n",
       "      <td>3963</td>\n",
       "      <td>3941</td>\n",
       "      <td>3910</td>\n",
       "      <td>109</td>\n",
       "      <td>127</td>\n",
       "      <td>727</td>\n",
       "      <td>724</td>\n",
       "    </tr>\n",
       "    <tr>\n",
       "      <th>unique</th>\n",
       "      <td>2887</td>\n",
       "      <td>16</td>\n",
       "      <td>294</td>\n",
       "      <td>287</td>\n",
       "      <td>11</td>\n",
       "      <td>61</td>\n",
       "      <td>119</td>\n",
       "      <td>115</td>\n",
       "      <td>575</td>\n",
       "    </tr>\n",
       "    <tr>\n",
       "      <th>top</th>\n",
       "      <td>GUCA084</td>\n",
       "      <td>Passo Fundo</td>\n",
       "      <td>Instituto Menino Deus</td>\n",
       "      <td>Instituto Menino Deus</td>\n",
       "      <td>1</td>\n",
       "      <td>Temporário</td>\n",
       "      <td>GRIPE</td>\n",
       "      <td>15</td>\n",
       "      <td>CIRURGIA</td>\n",
       "    </tr>\n",
       "    <tr>\n",
       "      <th>freq</th>\n",
       "      <td>14</td>\n",
       "      <td>1188</td>\n",
       "      <td>118</td>\n",
       "      <td>117</td>\n",
       "      <td>1759</td>\n",
       "      <td>16</td>\n",
       "      <td>2</td>\n",
       "      <td>50</td>\n",
       "      <td>15</td>\n",
       "    </tr>\n",
       "  </tbody>\n",
       "</table>\n",
       "</div>"
      ],
      "text/plain": [
       "         Código    Município                escola1      Escola_resp_Quest  \\\n",
       "count      3970         3970                   3963                   3941   \n",
       "unique     2887           16                    294                    287   \n",
       "top     GUCA084  Passo Fundo  Instituto Menino Deus  Instituto Menino Deus   \n",
       "freq         14         1188                    118                    117   \n",
       "\n",
       "       Contrato  Outro_qual Porquê_A Quantotempo  Porquê_B  \n",
       "count      3910         109      127         727       724  \n",
       "unique       11          61      119         115       575  \n",
       "top           1  Temporário    GRIPE          15  CIRURGIA  \n",
       "freq       1759          16        2          50        15  "
      ]
     },
     "execution_count": 9,
     "metadata": {},
     "output_type": "execute_result"
    }
   ],
   "source": [
    "df_joined[cat_cols].describe()"
   ]
  },
  {
   "cell_type": "code",
   "execution_count": 10,
   "metadata": {},
   "outputs": [
    {
     "data": {
      "text/plain": [
       "294               Acompanhamento do filho de 1 an\n",
       "362                               Filhos doentes.\n",
       "714                                 Filha doente.\n",
       "779                                 Filho doente.\n",
       "1017                                 filho doente\n",
       "1212                                 FILHO DOENTE\n",
       "1322                                       Filhos\n",
       "1715                          Acompanhando filha.\n",
       "2066                 Meus filhos ficaram doentes.\n",
       "358                                  Filha doente\n",
       "509                                  FILHO DOENTE\n",
       "590                                         Filha\n",
       "908                          ACOMPANHAMENTO FILHA\n",
       "1454                             Doença do filho.\n",
       "1517                      ACOMPANHAR FILHO DOENTE\n",
       "1745    ACOMPANHANDO MINHA FILHA QUE FEZ CIRURGIA\n",
       "Name: Porquê_A, dtype: object"
      ]
     },
     "execution_count": 10,
     "metadata": {},
     "output_type": "execute_result"
    }
   ],
   "source": [
    "# Porquê_A = \"Filho\"\n",
    "df_joined[df_joined['Porquê_A'].str.contains(\"Filh\", case=False) == True]['Porquê_A']"
   ]
  },
  {
   "cell_type": "code",
   "execution_count": 16,
   "metadata": {},
   "outputs": [],
   "source": [
    "df_joined.loc[df_joined['Porquê_A'].str.contains(\"Filh\", case=False) == True, 'Porquê_A'] = \"Filho\"\n",
    "df_joined.loc[df_joined['Porquê_A'].str.contains(\"Coluna\", case=False) == True, 'Porquê_A'] = \"Coluna\"\n",
    "df_joined.loc[df_joined['Porquê_A'].str.contains(\"Acompanha\", case=False) == True, 'Porquê_A'] = \"Acompanhamento\"\n",
    "df_joined.loc[df_joined['Porquê_A'].str.contains(\"Cirurgia\", case=False) == True, 'Porquê_A'] = \"Cirurgia\"\n",
    "df_joined.loc[df_joined['Porquê_A'].str.contains(\"Conjuntivite\", case=False) == True, 'Porquê_A'] = \"Conjuntivite\"\n",
    "df_joined.loc[df_joined['Porquê_A'].str.contains(\"Consulta\", case=False) == True, 'Porquê_A'] = \"Consulta\""
   ]
  },
  {
   "cell_type": "code",
   "execution_count": 17,
   "metadata": {},
   "outputs": [],
   "source": [
    "df_joined.loc[df_joined['Porquê_B'].str.contains(\"Aborto\", case=False) == True, 'Porquê_B'] = \"Aborto\"\n",
    "df_joined.loc[df_joined['Porquê_B'].str.contains(\"Acompanha\", case=False) == True, 'Porquê_B'] = \"Acompanhamento\"\n",
    "df_joined.loc[df_joined['Porquê_B'].str.contains(\"Caxumba\", case=False) == True, 'Porquê_B'] = \"Caxumba\"\n",
    "df_joined.loc[df_joined['Porquê_B'].str.contains(\"Cirurgia\", case=False) == True, 'Porquê_B'] = \"Cirurgia\"\n",
    "df_joined.loc[df_joined['Porquê_B'].str.contains(\"Coluna\", case=False) == True, 'Porquê_B'] = \"Coluna\"\n",
    "df_joined.loc[df_joined['Porquê_B'].str.contains(\"Depressão\", case=False) == True, 'Porquê_B'] = \"Depressão\"\n",
    "df_joined.loc[df_joined['Porquê_B'].str.contains(\"stress\", case=False) == True, 'Porquê_B'] = \"Estresse\"\n",
    "df_joined.loc[df_joined['Porquê_B'].str.contains(\"Filh\", case=False) == True, 'Porquê_B'] = \"Filho\"\n",
    "df_joined.loc[df_joined['Porquê_B'].str.contains(\"Fratur\", case=False) == True, 'Porquê_B'] = \"Fratura\"\n",
    "df_joined.loc[df_joined['Porquê_B'].str.contains(\"Gripe\", case=False) == True, 'Porquê_B'] = \"Gripe\"\n",
    "df_joined.loc[df_joined['Porquê_B'].str.contains(\"Infecção\", case=False) == True, 'Porquê_B'] = \"Infecção\"\n",
    "df_joined.loc[df_joined['Porquê_B'].str.contains(\"Labirintite\", case=False) == True, 'Porquê_B'] = \"Labirintite\"\n",
    "df_joined.loc[df_joined['Porquê_B'].str.contains(\"Lesão\", case=False) == True, 'Porquê_B'] = \"Lesão\"\n",
    "df_joined.loc[df_joined['Porquê_B'].str.contains(\"Licença\", case=False) == True, 'Porquê_B'] = \"Licença\"\n",
    "df_joined.loc[df_joined['Porquê_B'].str.contains(\"Virose\", case=False) == True, 'Porquê_B'] = \"Virose\""
   ]
  },
  {
   "cell_type": "code",
   "execution_count": 18,
   "metadata": {},
   "outputs": [
    {
     "data": {
      "text/plain": [
       "count       127\n",
       "unique       83\n",
       "top       Filho\n",
       "freq         16\n",
       "Name: Porquê_A, dtype: object"
      ]
     },
     "execution_count": 18,
     "metadata": {},
     "output_type": "execute_result"
    }
   ],
   "source": [
    "df_joined['Porquê_A'].describe()"
   ]
  },
  {
   "cell_type": "code",
   "execution_count": 19,
   "metadata": {},
   "outputs": [
    {
     "data": {
      "text/plain": [
       "count          724\n",
       "unique         299\n",
       "top       Cirurgia\n",
       "freq           145\n",
       "Name: Porquê_B, dtype: object"
      ]
     },
     "execution_count": 19,
     "metadata": {},
     "output_type": "execute_result"
    }
   ],
   "source": [
    "df_joined['Porquê_B'].describe()"
   ]
  },
  {
   "cell_type": "code",
   "execution_count": 20,
   "metadata": {},
   "outputs": [],
   "source": [
    "df_joined_cats = df_joined.copy()\n",
    "df_joined_cats[cat_cols] = df_joined[cat_cols].astype('category')"
   ]
  },
  {
   "cell_type": "code",
   "execution_count": 21,
   "metadata": {},
   "outputs": [],
   "source": [
    "for cat_col in cat_cols:\n",
    "    df_joined_cats[cat_col] = df_joined_cats[cat_col].cat.codes"
   ]
  },
  {
   "cell_type": "code",
   "execution_count": 22,
   "metadata": {},
   "outputs": [],
   "source": [
    "df_joined_cats[cat_cols] = df_joined_cats[cat_cols].replace(-1, np.nan)"
   ]
  },
  {
   "cell_type": "code",
   "execution_count": 23,
   "metadata": {},
   "outputs": [],
   "source": [
    "# 148 - 95 = 53 colunas com algum valor em branco\n",
    "# df_joined.dropna(axis=0, how='all').shape\n",
    "df_joined_cats = df_joined_cats.dropna(axis=0, how='all')"
   ]
  },
  {
   "cell_type": "code",
   "execution_count": 24,
   "metadata": {},
   "outputs": [
    {
     "data": {
      "text/plain": [
       "(3970, 122)"
      ]
     },
     "execution_count": 24,
     "metadata": {},
     "output_type": "execute_result"
    }
   ],
   "source": [
    "df_joined_cats.shape"
   ]
  },
  {
   "cell_type": "code",
   "execution_count": 25,
   "metadata": {},
   "outputs": [
    {
     "data": {
      "text/plain": [
       "Código                   0\n",
       "SCV                      0\n",
       "MPS                      0\n",
       "IPPS                     0\n",
       "ISP                      0\n",
       "ARE                      0\n",
       "DED                      0\n",
       "trab9                    0\n",
       "AED                      0\n",
       "Engagement               0\n",
       "Exaustao                 0\n",
       "Cinismo                  0\n",
       "Município                0\n",
       "ARS                      0\n",
       "trab10                   1\n",
       "CAFC                     1\n",
       "IOPS                     1\n",
       "VSP                      1\n",
       "bes5                     2\n",
       "trab11                   2\n",
       "Saude                    2\n",
       "bes4                     3\n",
       "trab32                   3\n",
       "saude4                   4\n",
       "trab12                   4\n",
       "atitrab1                 5\n",
       "trab13                   5\n",
       "trab8                    6\n",
       "atitrab13                6\n",
       "be1                      7\n",
       "                      ... \n",
       "Área_Ens_Médio          35\n",
       "atitrab20               36\n",
       "trab26                  38\n",
       "atitrab17               38\n",
       "atitrab6                41\n",
       "be15                    44\n",
       "be17                    44\n",
       "trab24                  44\n",
       "trab27                  45\n",
       "atitrab14               52\n",
       "atitrab2                53\n",
       "be6                     53\n",
       "be13                    56\n",
       "atitrab3                56\n",
       "Tempo_Escola            57\n",
       "Contrato                60\n",
       "Formação                62\n",
       "atitrab18               64\n",
       "Supervisiona            65\n",
       "trab25                  70\n",
       "Tipo_escola             76\n",
       "Idade                   82\n",
       "Niveis_escola          137\n",
       "Hrs_semanais           142\n",
       "Tempo_profissão        313\n",
       "Numero_professores     335\n",
       "Quantotempo           3243\n",
       "Porquê_B              3246\n",
       "Porquê_A              3843\n",
       "Outro_qual            3861\n",
       "Length: 122, dtype: int64"
      ]
     },
     "execution_count": 25,
     "metadata": {},
     "output_type": "execute_result"
    }
   ],
   "source": [
    "df_joined_cats.isnull().sum().sort_values()"
   ]
  },
  {
   "cell_type": "code",
   "execution_count": 26,
   "metadata": {},
   "outputs": [],
   "source": [
    "# -1 para os categóricos\n",
    "df_joined_cats[cat_cols] = df_joined_cats[cat_cols].replace(np.nan, -1)"
   ]
  },
  {
   "cell_type": "code",
   "execution_count": 27,
   "metadata": {},
   "outputs": [],
   "source": [
    "# Média para os demais\n",
    "df_joined_cats.isnull().sum().items()\n",
    "cols_null = [idx for (idx, val) in df_joined_cats.isnull().sum().items() if val > 0 ]\n",
    "for c in cols_null:\n",
    "    df_joined_cats[c] = df_joined_cats[c].replace(np.nan, df_joined_cats[c].mean())"
   ]
  },
  {
   "cell_type": "code",
   "execution_count": null,
   "metadata": {},
   "outputs": [],
   "source": [
    "# 1. Definir valores NA \"#NULO!\" (ok)\n",
    "# 2. Unificar colunas e linhas (ok)\n",
    "# 3. Converter valores numéricos com vírgula para ponto (ok)\n",
    "# 4. Transformar valores descritivos em categóricos com códigos (ok)\n",
    "# 7. Transformar colunas descritivas em categoria (radicais de palavras, centralizar problemas) (ok, manual)\n",
    "# 5. Dropar colunas/linhas com NA que não irão auxiliar (ok)\n",
    "# 6. Preencher valores NA de colunas mantidas (ok)\n",
    "# 8. Implementar multi-target regression e medir qualidade"
   ]
  },
  {
   "cell_type": "code",
   "execution_count": 62,
   "metadata": {},
   "outputs": [
    {
     "name": "stdout",
     "output_type": "stream",
     "text": [
      "(3970, 120) (3970, 2)\n"
     ]
    }
   ],
   "source": [
    "# https://scikit-learn.org/stable/auto_examples/ensemble/plot_random_forest_regression_multioutput.html#sphx-glr-auto-examples-ensemble-plot-random-forest-regression-multioutput-py\n",
    "\n",
    "import matplotlib.pyplot as plt\n",
    "from sklearn.ensemble import RandomForestRegressor\n",
    "from sklearn.model_selection import train_test_split\n",
    "from sklearn.multioutput import MultiOutputRegressor\n",
    "\n",
    "target_cols = ['Exaustao', 'Cinismo']\n",
    "\n",
    "X = df_joined_cats.drop(columns=target_cols).values\n",
    "y = df_joined_cats[target_cols].values\n",
    "\n",
    "print(X.shape, y.shape)\n"
   ]
  },
  {
   "cell_type": "code",
   "execution_count": 65,
   "metadata": {},
   "outputs": [],
   "source": [
    "X_train, X_test, y_train, y_test = train_test_split(\n",
    "    X, y, test_size=0.33, random_state=0)\n",
    "# train_size=400, test_size=200,\n",
    "\n",
    "max_depth = 30\n",
    "regr_multirf = MultiOutputRegressor(RandomForestRegressor(n_estimators=100,\n",
    "                                                          max_depth=max_depth,\n",
    "                                                          random_state=0))\n",
    "regr_multirf.fit(X_train, y_train)\n",
    "\n",
    "regr_rf = RandomForestRegressor(n_estimators=100, max_depth=max_depth, random_state=2)\n",
    "regr_rf.fit(X_train, y_train)\n",
    "\n",
    "# Predict on new data\n",
    "y_multirf = regr_multirf.predict(X_test)\n",
    "y_rf = regr_rf.predict(X_test)\n"
   ]
  },
  {
   "cell_type": "code",
   "execution_count": 66,
   "metadata": {},
   "outputs": [
    {
     "data": {
      "image/png": "[encoded data removed]",
      "text/plain": [
       "<Figure size 432x288 with 1 Axes>"
      ]
     },
     "metadata": {},
     "output_type": "display_data"
    }
   ],
   "source": [
    "# Plot the results\n",
    "plt.figure()\n",
    "s = 50\n",
    "a = 0.4\n",
    "plt.scatter(y_test[:, 0], y_test[:, 1], edgecolor='k',\n",
    "            c=\"navy\", s=s, marker=\"s\", alpha=a, label=\"Data\")\n",
    "plt.scatter(y_multirf[:, 0], y_multirf[:, 1], edgecolor='k',\n",
    "            c=\"cornflowerblue\", s=s, alpha=a,\n",
    "            label=\"Multi RF score=%.2f\" % regr_multirf.score(X_test, y_test))\n",
    "plt.scatter(y_rf[:, 0], y_rf[:, 1], edgecolor='k',\n",
    "            c=\"c\", s=s, marker=\"^\", alpha=a,\n",
    "            label=\"RF score=%.2f\" % regr_rf.score(X_test, y_test))\n",
    "plt.xlim([-6, 6])\n",
    "plt.ylim([-6, 6])\n",
    "plt.xlabel(\"target 1\")\n",
    "plt.ylabel(\"target 2\")\n",
    "plt.title(\"Comparing random forests and the multi-output meta estimator\")\n",
    "plt.legend()\n",
    "plt.show()"
   ]
  },
  {
   "cell_type": "code",
   "execution_count": null,
   "metadata": {},
   "outputs": [],
   "source": []
  }
 ],
 "metadata": {
  "kernelspec": {
   "display_name": "Python 3",
   "language": "python",
   "name": "python3"
  },
  "language_info": {
   "codemirror_mode": {
    "name": "ipython",
    "version": 3
   },
   "file_extension": ".py",
   "mimetype": "text/x-python",
   "name": "python",
   "nbconvert_exporter": "python",
   "pygments_lexer": "ipython3",
   "version": "3.6.5"
  }
 },
 "nbformat": 4,
 "nbformat_minor": 2
}
